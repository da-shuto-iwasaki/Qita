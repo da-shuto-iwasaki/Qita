{
 "cells": [
  {
   "cell_type": "markdown",
   "metadata": {},
   "source": [
    "# ZDDのグラフアルゴリズム\n",
    "__　授業でせっかく習ったので、ZDDのグラフアルゴリズムを実際に`python`で書いてみた。__"
   ]
  },
  {
   "cell_type": "code",
   "execution_count": 1,
   "metadata": {
    "collapsed": true
   },
   "outputs": [],
   "source": [
    "# 必要なモジュールのインポート\n",
    "import collections\n",
    "import copy"
   ]
  },
  {
   "cell_type": "markdown",
   "metadata": {},
   "source": [
    "## フロンティア"
   ]
  },
  {
   "cell_type": "code",
   "execution_count": 2,
   "metadata": {
    "code_folding": [
     0
    ],
    "collapsed": true
   },
   "outputs": [],
   "source": [
    "def update_frontier(frontier,edge,edges,counter):\n",
    "    \"\"\"\n",
    "    関数の概要：以前までのフロンティアと獲得エッジからフロンティアを更新する。フロンティアは全ての場合で等しいので、一括計算。\n",
    "    　　　　　　一般に、１つの頂点で、「入次数の数ー１」だけフロンティアは増える。\n",
    "    @param frontier ：以前までのフロンティア\n",
    "    @param edge     ：新規獲得エッジ\n",
    "    @param edges    ：エッジ集合\n",
    "    @param counter  ：エッジの入次数を記録している辞書\n",
    "    @return frontier：更新後のフロンティア\n",
    "    \"\"\"\n",
    "    # 入次数が２で、新しい辺の終点の頂点番号が小さかったら追加するだけ。\n",
    "    if counter[edge[0]] == 2 and edge[1] == [edges[i][1] for i in range(len(edges)) if edges[i][0] == edge[0]][0]:\n",
    "        frontier.append(edge[1])\n",
    "    # 入次数が２で、新しい辺の終点の頂点番号が大きかったら始点を削除して終点を追加する。\n",
    "    elif counter[edge[0]] == 2 and edge[1] == [edges[i][1] for i in range(len(edges)) if edges[i][0] == edge[0]][1]:\n",
    "        frontier.remove(edge[0])\n",
    "        frontier.append(edge[1])\n",
    "    # 入次数が１の場合は、始点を削除して終点を追加する。\n",
    "    elif counter[edge[0]] == 1:\n",
    "        frontier.remove(edge[0])\n",
    "        frontier.append(edge[1])\n",
    "    else:\n",
    "        print(\"予想外のedge: {}です!!\".format(edge))\n",
    "    \n",
    "    # 重複を削除する。\n",
    "    new_frontier = list(set(frontier))\n",
    "    return new_frontier"
   ]
  },
  {
   "cell_type": "code",
   "execution_count": 3,
   "metadata": {
    "code_folding": [
     0
    ],
    "collapsed": true
   },
   "outputs": [],
   "source": [
    "def print_frontier(edges, num=False):\n",
    "    \"\"\"\n",
    "    関数の概要：フロンティアの遷移を見る。\n",
    "    　　　　　　番号を指定すればそのタイミングだけを表示する。\n",
    "    @param edges：利用するエッジの情報\n",
    "    @param num  ：指定する番号\n",
    "    \"\"\"\n",
    "    frontier = [edges[0][0]]\n",
    "    if not num: \n",
    "        num = [i for i in range(len(edges))] \n",
    "    else:\n",
    "        num=[num-1]\n",
    "    counter = collections.Counter([edge[0] for edge in edges])\n",
    "    print(\"00: initial frontier:              {}\".format(frontier))\n",
    "    for i in range(len(edges)):          \n",
    "        frontier = update_frontier(frontier, edges[i], edges, counter)\n",
    "        if i in num:  \n",
    "            print(\"{:0=2}: new_edge:{} frontier:{}\".format(i+1,edges[i],frontier))"
   ]
  },
  {
   "cell_type": "code",
   "execution_count": 4,
   "metadata": {},
   "outputs": [
    {
     "name": "stdout",
     "output_type": "stream",
     "text": [
      "00: initial frontier:              ['e0']\n",
      "01: new_edge:('e0', 'e1') frontier:['e0', 'e1']\n",
      "02: new_edge:('e0', 'e2') frontier:['e2', 'e1']\n",
      "03: new_edge:('e1', 'e3') frontier:['e3', 'e2', 'e1']\n",
      "04: new_edge:('e1', 'e4') frontier:['e4', 'e2', 'e3']\n",
      "05: new_edge:('e2', 'e5') frontier:['e5', 'e4', 'e3']\n",
      "06: new_edge:('e3', 'e5') frontier:['e4', 'e5']\n",
      "07: new_edge:('e4', 'e5') frontier:['e5']\n"
     ]
    }
   ],
   "source": [
    "# 辺の集合\n",
    "edges = [(\"e0\",\"e1\"),(\"e0\",\"e2\"),(\"e1\",\"e3\"),(\"e1\",\"e4\"),(\"e2\",\"e5\"),(\"e3\",\"e5\"),(\"e4\",\"e5\")]\n",
    "# フロンティアの遷移を確認する。\n",
    "print_frontier(edges)"
   ]
  },
  {
   "cell_type": "markdown",
   "metadata": {},
   "source": [
    "## mate配列"
   ]
  },
  {
   "cell_type": "code",
   "execution_count": 5,
   "metadata": {
    "code_folding": [
     0
    ],
    "collapsed": true
   },
   "outputs": [],
   "source": [
    "def update_mate_arr(mate, frontier, current_edges):\n",
    "    \"\"\"\n",
    "    関数の概要：mate配列を更新する。\n",
    "    @patam mate         ：以前までのmate配列（dict）\n",
    "    @param frontier     ：更新後のフロンティア\n",
    "    @param current_edges：獲得したエッジ集合\n",
    "    @return new_mate    ：更新後のmate配列（dict）  \n",
    "    \"\"\"\n",
    "    start = list(mate.keys())[0]\n",
    "    end   = list(mate.keys())[-1]\n",
    "    for f in range(len(frontier)):\n",
    "        flag=False # ループに入るかの識別子\n",
    "        loop = 0   # ループの回数を記録する。\n",
    "        # 獲得したエッジ集合から、フロンティアの入次数を求める。\n",
    "        in_edges  = [current_edges[i][0] for i in range(len(current_edges)) if current_edges[i][1] == frontier[f]]\n",
    "        out_edges = [current_edges[i][1] for i in range(len(current_edges)) if current_edges[i][0] == frontier[f]]\n",
    "        N_in  = len(in_edges)\n",
    "        N_out = len(out_edges) # 出自数の数  \n",
    "        # 入次数、出次数共に０だったら、頂点の名前になる。\n",
    "        if N_in+N_out == 0:\n",
    "            mate[frontier[f]] = frontier[f]\n",
    "        # 入次数と出次数の和が２(=途中にある)の場合は０。    \n",
    "        elif N_in + N_out>=2:\n",
    "            mate[frontier[f]] = \"0\"\n",
    "        # 入次数が１つだったら、逆端まで探索する。\n",
    "        elif N_in == 1:\n",
    "            edge = in_edges[0]\n",
    "            b_edge = frontier[f] # １つ前のedgeを記録\n",
    "            flag = True\n",
    "        # 入次数は０だが、出次数が１の場合\n",
    "        elif N_out == 1:\n",
    "            edge = out_edges[0]\n",
    "            b_edge = frontier[f]\n",
    "            flag=True           \n",
    "        # 探索を続ける。\n",
    "        while flag and loop<len(current_edges): # 全てエッジを通っても終わらない＝ループが起きている。\n",
    "            in_edges  = [current_edges[i][0] for i in range(len(current_edges)) if current_edges[i][1] == edge]\n",
    "            out_edges = [current_edges[i][1] for i in range(len(current_edges)) if current_edges[i][0] == edge]\n",
    "            N_in  = len(in_edges)  # 入次数の数\n",
    "            N_out = len(out_edges) # 出自数の数                           \n",
    "            # 端にたどり着いた場合\n",
    "            if N_in + N_out == 1:\n",
    "                mate[frontier[f]] = edge\n",
    "                break\n",
    "            # 端ではない場合は、端まで探索する。\n",
    "            elif N_in == 2:\n",
    "                if edge==end and loop!=0:\n",
    "                    mate[frontier[f]] == \"1\"\n",
    "                    break\n",
    "                tmp = edge\n",
    "                edge = [in_edges[i] for i in range(len(in_edges)) if in_edges[i]!=b_edge][0]\n",
    "                b_edge = tmp\n",
    "            elif N_out == 2:\n",
    "                if edge== start and loop!=0:\n",
    "                    mate[frontier[f]] == \"1\"\n",
    "                    break\n",
    "                tmp = edge\n",
    "                edge = [out_edges[i] for i in range(len(out_edges)) if out_edges[i]!=b_edge][0]\n",
    "                b_edge = tmp\n",
    "            elif N_in==1 and N_out==1:\n",
    "                tmp_edges = in_edges+out_edges\n",
    "                tmp = edge\n",
    "                edge = [tmp_edges[i] for i in range(len(tmp_edges)) if tmp_edges[i]!=b_edge][0]\n",
    "                b_edge = tmp  \n",
    "            loop+=1\n",
    "        # 「エッジの数だけ遡っても端につかない」＝「ループができている」ため、削除する。\n",
    "        if loop!=0 and loop==len(current_edges):\n",
    "            for k in range(len(frontier)):\n",
    "                mate[frontier[k]] = \"0\"\n",
    "            return mate\n",
    "    return mate"
   ]
  },
  {
   "cell_type": "code",
   "execution_count": 6,
   "metadata": {
    "code_folding": [
     0
    ],
    "collapsed": true
   },
   "outputs": [],
   "source": [
    "def print_matearr(vertex_set, edges, check_edges, num=False):\n",
    "    \"\"\"\n",
    "    関数の概要：ある辺を取得した時のmate配列の遷移を表示する。\n",
    "    @param vertex_set ：グラフの頂点集合\n",
    "    @param edges      ：グラフの辺の集合\n",
    "    @param check_edges：調べたい辺の集合\n",
    "    @param frontier   ：フロンティア\n",
    "    \"\"\"\n",
    "    current_edges = [] # 取得したエッジの初期化。\n",
    "    mate_dict = dict() # mate配列の初期化\n",
    "    for i in range(len(vertex_set)): mate_dict[vertex_set[i]] = vertex_set[i]\n",
    "    counter = collections.Counter([edge[0] for edge in edges]) # カウンターの作成。\n",
    "    frontier = vertex_set[:1]\n",
    "    \n",
    "    if not num: \n",
    "        num = [i for i in range(len(edges))] \n",
    "    else:\n",
    "        num=[num-1]\n",
    "    \n",
    "    for i in range(len(edges)):\n",
    "        frontier = update_frontier(frontier, edges[i], edges, counter) # フロンティアの更新\n",
    "        if edges[i] in check_edges: # 入っているものだけを取る。\n",
    "            current_edges.append(edges[i])\n",
    "        mate_dict = update_mate_arr(mate_dict, frontier, current_edges)  \n",
    "        if i in num:  \n",
    "            print(\"{:0=2}: new_edge     :{} {}\".format(i+1,edges[i],\"◯\" if edges[i] in check_edges else \"×\"))\n",
    "            print(\"    mate array   :{}\".format({k:v for k, v in mate_dict.items() if k in frontier}))\n",
    "            print(\"    current edges:{}\\n\".format(current_edges))  "
   ]
  },
  {
   "cell_type": "code",
   "execution_count": 7,
   "metadata": {
    "cell_style": "split"
   },
   "outputs": [
    {
     "name": "stdout",
     "output_type": "stream",
     "text": [
      "04: new_edge     :('e1', 'e4') ◯\n",
      "    mate array   :{'e2': 'e0', 'e3': 'e4', 'e4': 'e3'}\n",
      "    current edges:[('e0', 'e2'), ('e1', 'e3'), ('e1', 'e4')]\n",
      "\n"
     ]
    }
   ],
   "source": [
    "# 確認\n",
    "# 辺の集合\n",
    "edges = [(\"e0\",\"e1\"),(\"e0\",\"e2\"),(\"e1\",\"e3\"),(\"e1\",\"e4\"),(\"e2\",\"e5\"),(\"e3\",\"e5\"),(\"e4\",\"e5\")]\n",
    "# 頂点の集合\n",
    "vertex_set = [\"e0\",\"e1\",\"e2\",\"e3\",\"e4\",\"e5\"]\n",
    "check_edges = [(\"e0\",\"e2\"),(\"e1\",\"e3\"),(\"e1\",\"e4\")]\n",
    "print_matearr(vertex_set, edges, check_edges, 4)"
   ]
  },
  {
   "cell_type": "markdown",
   "metadata": {
    "cell_style": "split"
   },
   "source": [
    "<img src=\"../image/graphillion/sample2.png\" width=50%>"
   ]
  },
  {
   "cell_type": "markdown",
   "metadata": {},
   "source": [
    "## 一筆書き"
   ]
  },
  {
   "cell_type": "markdown",
   "metadata": {},
   "source": [
    "__　始点から終点まで行くかを調べる__"
   ]
  },
  {
   "cell_type": "code",
   "execution_count": 8,
   "metadata": {
    "code_folding": [
     0
    ],
    "collapsed": true
   },
   "outputs": [],
   "source": [
    "def how_many_edges(edges, start):\n",
    "    \"\"\"\n",
    "    関数の概要：与えられた場所から端まで行く時にどれだけエッジを通るかを返す関数\n",
    "    @param edges：辺の集合\n",
    "    @param start：\n",
    "    \"\"\"\n",
    "    out_edges  = [edges[i][1] for i in range(len(edges)) if edges[i][0] == start]\n",
    "    in_edges   = [edges[i][0] for i in range(len(edges)) if edges[i][1] == start]\n",
    "    both_edges = out_edges+in_edges\n",
    "    edge = both_edges[0]\n",
    "    b_edge = start\n",
    "    count=0\n",
    "    # countの回数がedges数と同じでも到達しない＝ループがある、のため。\n",
    "    while count<=len(edges):\n",
    "        count += 1\n",
    "        in_edges  = [edges[i][0] for i in range(len(edges)) if edges[i][1] == edge]\n",
    "        out_edges = [edges[i][1] for i in range(len(edges)) if edges[i][0] == edge]\n",
    "        N_in  = len(in_edges)  # 入次数の数\n",
    "        N_out = len(out_edges) # 出自数の数\n",
    "        if N_in + N_out == 1:  # 最後までたどり着いた。\n",
    "            break\n",
    "        elif N_in == 2:\n",
    "            tmp = edge\n",
    "            edge = [in_edges[i] for i in range(len(in_edges)) if in_edges[i]!=b_edge][0]\n",
    "            b_edge = tmp\n",
    "        elif N_out == 2:\n",
    "            tmp = edge\n",
    "            edge = [out_edges[i] for i in range(len(out_edges)) if out_edges[i]!=b_edge][0]\n",
    "            b_edge = tmp\n",
    "        elif N_in==1 and N_out==1:\n",
    "            tmp_edges = in_edges+out_edges\n",
    "            tmp = edge\n",
    "            edge = [tmp_edges[i] for i in range(len(tmp_edges)) if tmp_edges[i]!=b_edge][0]\n",
    "            b_edge = tmp\n",
    "    return count"
   ]
  },
  {
   "cell_type": "code",
   "execution_count": 9,
   "metadata": {
    "code_folding": [
     0
    ],
    "collapsed": true
   },
   "outputs": [],
   "source": [
    "def One_stroke(edges, frontier_mate_dict, start, on_the_way):\n",
    "    \"\"\"\n",
    "    関数の概要：一筆書きの集合かを判断する関数（ループを除く）\n",
    "    @param edges               ：調べたいエッジ\n",
    "    @param frontier_mate_dict  ：mate配列\n",
    "    @param start               ：始点\n",
    "    @param on_the_way          ：終点までつながっていない=True\n",
    "    @return：True or False\n",
    "    \"\"\"\n",
    "    # フロンティア同士が繋がっているものの片方のフロンティアを残す。また、e0に繋がっているフロンティアも除く。\n",
    "    together = [k for k,v in frontier_mate_dict.items() if (k in frontier_mate_dict.values()) and k<v and k!=start]\n",
    "    out_edges = [edges[i][1] for i in range(len(edges)) if edges[i][0] == start]\n",
    "    if len(out_edges)!=1: return False\n",
    "    edge = out_edges[0]\n",
    "    b_edge = start\n",
    "    count = how_many_edges(edges, start)\n",
    "    if on_the_way:\n",
    "        # フロンティア同士が繋がっているものがあれば、それも考える。\n",
    "        for i in range(int(len(together))):\n",
    "            count += how_many_edges(edges, together[i])\n",
    "    \n",
    "    return count==len(edges)"
   ]
  },
  {
   "cell_type": "markdown",
   "metadata": {},
   "source": [
    "__- 途中の場合__"
   ]
  },
  {
   "cell_type": "code",
   "execution_count": 10,
   "metadata": {
    "collapsed": true
   },
   "outputs": [],
   "source": [
    "frontier_mate_arr = dict([(\"e4\",\"e5\"),(\"e5\",\"e4\"),(\"e6\",\"e0\")])\n",
    "frontier = [\"e4\",\"e5\",\"e6\"]\n",
    "start = \"e0\"\n",
    "edges1 = [(\"e0\",\"e3\"),(\"e3\",\"e6\"),(\"e1\",\"e4\"),(\"e1\",\"e2\"),(\"e2\",\"e5\")]\n",
    "edges2 = [(\"e0\",\"e3\"),(\"e3\",\"e6\"),(\"e1\",\"e4\"),(\"e1\",\"e2\"),(\"e2\",\"e5\"),(\"e4\",\"e5\")]"
   ]
  },
  {
   "cell_type": "code",
   "execution_count": 11,
   "metadata": {},
   "outputs": [
    {
     "data": {
      "text/plain": [
       "True"
      ]
     },
     "execution_count": 11,
     "metadata": {},
     "output_type": "execute_result"
    }
   ],
   "source": [
    "One_stroke(edges1, frontier_mate_arr, start, on_the_way=True)"
   ]
  },
  {
   "cell_type": "code",
   "execution_count": 12,
   "metadata": {},
   "outputs": [
    {
     "data": {
      "text/plain": [
       "False"
      ]
     },
     "execution_count": 12,
     "metadata": {},
     "output_type": "execute_result"
    }
   ],
   "source": [
    "One_stroke(edges2, frontier_mate_arr, start, on_the_way=True)"
   ]
  },
  {
   "cell_type": "markdown",
   "metadata": {},
   "source": [
    "<img src=\"../image/graphillion/one_stroke.png\" width=60%>"
   ]
  },
  {
   "cell_type": "markdown",
   "metadata": {},
   "source": [
    "__- 最後までの場合__"
   ]
  },
  {
   "cell_type": "code",
   "execution_count": 13,
   "metadata": {
    "collapsed": true
   },
   "outputs": [],
   "source": [
    "edges1 = [(\"e0\",\"e3\"),(\"e3\",\"e6\"),(\"e1\",\"e4\"),(\"e1\",\"e2\"),(\"e2\",\"e5\"),(\"e4\",\"e5\")]\n",
    "edges2 = [(\"e0\",\"e3\"),(\"e3\",\"e6\")]\n",
    "frontier_mate_arr = dict([(\"e4\",\"e5\"),(\"e5\",\"e4\"),(\"e6\",\"e0\")])\n",
    "frontier = [\"e4\",\"e5\",\"e6\"]\n",
    "start = \"e0\""
   ]
  },
  {
   "cell_type": "code",
   "execution_count": 14,
   "metadata": {},
   "outputs": [
    {
     "data": {
      "text/plain": [
       "False"
      ]
     },
     "execution_count": 14,
     "metadata": {},
     "output_type": "execute_result"
    }
   ],
   "source": [
    "One_stroke(edges1, frontier_mate_arr, start, on_the_way=False)"
   ]
  },
  {
   "cell_type": "code",
   "execution_count": 15,
   "metadata": {},
   "outputs": [
    {
     "data": {
      "text/plain": [
       "True"
      ]
     },
     "execution_count": 15,
     "metadata": {},
     "output_type": "execute_result"
    }
   ],
   "source": [
    "One_stroke(edges2, frontier_mate_arr, start, on_the_way=False)"
   ]
  },
  {
   "cell_type": "markdown",
   "metadata": {},
   "source": [
    "<img src=\"../image/graphillion/one_stroke2.png\" width=60%>"
   ]
  },
  {
   "cell_type": "markdown",
   "metadata": {},
   "source": [
    "## 既に無理なものを取り除く"
   ]
  },
  {
   "cell_type": "code",
   "execution_count": 20,
   "metadata": {
    "code_folding": [
     0
    ],
    "collapsed": true
   },
   "outputs": [],
   "source": [
    "def Remove_impossible(edges, frontier, start):\n",
    "    \"\"\"\n",
    "    関数の概要：フロンティアに一続きで繋がっているかを確かめる。ただし、ループが含まれてしまう。\n",
    "    @param edges   ：取得している辺の集合\n",
    "    @param frontier：その時のフロンティア\n",
    "    @param start   ：開始点(e0)\n",
    "    \"\"\"\n",
    "    edge_elements = Flatten_dual(edges)\n",
    "    counter = collections.Counter([edge for edge in edge_elements])\n",
    "    check_list = [k for k, v in counter.items() if k not in frontier]\n",
    "    if start in check_list: check_list.remove(start)\n",
    "    for i in range(len(check_list)):\n",
    "        if counter[check_list[i]] == 1:\n",
    "            return False\n",
    "    return True"
   ]
  },
  {
   "cell_type": "code",
   "execution_count": 19,
   "metadata": {
    "code_folding": [
     0
    ],
    "collapsed": true
   },
   "outputs": [],
   "source": [
    "def Flatten_dual(dual_list):\n",
    "    \"\"\"\n",
    "    関数の概要：二重リストを一重にする関数\n",
    "    \"\"\"\n",
    "    return [element for inner_list in dual_list for element in inner_list]"
   ]
  },
  {
   "cell_type": "code",
   "execution_count": 22,
   "metadata": {},
   "outputs": [
    {
     "data": {
      "text/plain": [
       "False"
      ]
     },
     "execution_count": 22,
     "metadata": {},
     "output_type": "execute_result"
    }
   ],
   "source": [
    "Remove_impossible([(\"e0\",\"e3\"),(\"e3\",\"e4\"),(\"e1\",\"e2\")], [\"e4\",\"e5\",\"e6\"], \"e0\")"
   ]
  },
  {
   "cell_type": "code",
   "execution_count": 23,
   "metadata": {},
   "outputs": [
    {
     "data": {
      "text/plain": [
       "True"
      ]
     },
     "execution_count": 23,
     "metadata": {},
     "output_type": "execute_result"
    }
   ],
   "source": [
    "Remove_impossible([(\"e0\",\"e3\"),(\"e3\",\"e4\")], [\"e4\",\"e5\",\"e6\"], \"e0\")"
   ]
  },
  {
   "cell_type": "markdown",
   "metadata": {},
   "source": [
    "<img src=\"../image/graphillion/remove_impossible.png\" width=60%>"
   ]
  },
  {
   "cell_type": "markdown",
   "metadata": {},
   "source": [
    "## メインプログラム"
   ]
  },
  {
   "cell_type": "code",
   "execution_count": 24,
   "metadata": {
    "code_folding": [
     0
    ],
    "collapsed": true
   },
   "outputs": [],
   "source": [
    "def rootnum(vertex_set, edges, flag=False):\n",
    "    \"\"\"\n",
    "    関数の概要：ルートの総数を調べる。\n",
    "    @param vertex_set ：グラフの頂点集合\n",
    "    @param edges      ：グラフの辺の集合\n",
    "    @param flag       ：等価なエッジ集合を表示するか\n",
    "    \"\"\"\n",
    "    start = vertex_set[0]     # 始点\n",
    "    end   = vertex_set[-1]    # 終点\n",
    "    frontier = vertex_set[:1] # フロンティアの初期化。\n",
    "    mate_dict = dict()        # mate配列の初期化。\n",
    "    for i in range(len(vertex_set)): mate_dict[vertex_set[i]] = vertex_set[i]\n",
    "    counter = collections.Counter([edge[0] for edge in edges]) # フロンティアの更新に利用する。\n",
    "    answer = 0                # 求めたいルートの数\n",
    "    answer_list = []          # 求めたいルート（等価なものに圧縮済）\n",
    "    \n",
    "    edges_set = [[[],1,mate_dict]] # 初期化\n",
    "    for i in range(len(edges)):\n",
    "        # 新しいノードを獲得する処理\n",
    "        frontier = update_frontier(frontier, edges[i], edges, counter) # フロンティアの更新。\n",
    "        edges_set_get = copy.deepcopy(edges_set) # 新規のエッジを獲得する方\n",
    "        edges_set_not = copy.deepcopy(edges_set) # 新規のエッジを獲得しない方\n",
    "        for j in range(len(edges_set_get)): \n",
    "            edges_set_get[j][0].append(edges[i])\n",
    "        edges_set = edges_set_not+edges_set_get # 順番意外と大事（より簡単な方を等価なものの代表にできる。）\n",
    "\n",
    "        for j in range(len(edges_set)):        # mate配列の更新。\n",
    "            edges_set[j][2] = update_mate_arr(edges_set[j][2],frontier,edges_set[j][0])\n",
    "\n",
    "        # [frontierのmate配列]をkey,[取得edges,等価なものの個数,mate配列]をvalueにする。\n",
    "        result_dict = dict() # 圧縮をするためdictionaly型。\n",
    "        for j in range(len(edges_set)):\n",
    "            mate_arr = edges_set[j][2]  # 全てのmate配列(dictionaly型)\n",
    "            mate_arr_frontier = dict([(k,v) for k,v in mate_arr.items() if k in frontier]) # フロンティア部分のみ\n",
    "            mate_key = \"\".join(mate_arr_frontier.values()) # 文字を結合することで key にする。 \n",
    "            get_edges = edges_set[j][0] # 獲得したエッジ\n",
    "            num = edges_set[j][1]       # これより前で圧縮された等価なものの数\n",
    "            \"\"\"\n",
    "            ここで、既に不正解だとわかっているものを取り除く。\n",
    "            ・フロンティア配列のmate配列のvalueにe0が存在しない。（これだとe0からエッジがないものも含まれる。）\n",
    "            ・１つのノードから３本以上のエッジが出ている。\n",
    "            ・ループができている。\n",
    "            \"\"\"\n",
    "            if start in mate_arr_frontier.values(): # フロンティアのmate配列に始点が含まれないものを取り除く。\n",
    "                if Remove_impossible(get_edges, frontier, start): # 既に無理なものを取り除く。\n",
    "                    if start in Flatten_dual(get_edges): # 始点が獲得エッジに含まれているもののみにする。\n",
    "                        if One_stroke(get_edges, mate_arr_frontier, start, True): # ループが複数ノードを取り除く。\n",
    "                            if end in frontier and mate_arr_frontier[end] == start: \n",
    "                                if One_stroke(get_edges, mate_arr_frontier,start, False):\n",
    "                                    if flag: answer_list.append({\"num\":num,\n",
    "                                                                 \"route\":get_edges}) # 必要であれば最後まで行ったパスを記憶する。\n",
    "                                    answer+=num\n",
    "                                    continue\n",
    "                        else:\n",
    "                            continue\n",
    "                    \"\"\"フロンティア部分のmate配列が等しいものを圧縮する。\"\"\"\n",
    "                    # mate配列の同じものがあれば、エッジ数の少ないものを残して圧縮する。\n",
    "                    if mate_key in result_dict:\n",
    "                        result_dict[mate_key][1] += num # 等価なものは圧縮する。\n",
    "                    else:\n",
    "                        result_dict[mate_key] = [get_edges, num, mate_arr]\n",
    "                        \n",
    "        # 圧縮後を回収する。\n",
    "        edges_set = []\n",
    "        for k,v in result_dict.items():\n",
    "            edges_set.append([v[0],v[1],v[2]])\n",
    "\n",
    "    print(\"{} から {} までのルートの総数は {} 通りです。\".format(start,end,answer))\n",
    "    if flag: return answer_list"
   ]
  },
  {
   "cell_type": "markdown",
   "metadata": {
    "collapsed": true
   },
   "source": [
    "***\n",
    "***"
   ]
  },
  {
   "cell_type": "markdown",
   "metadata": {},
   "source": [
    "# 【実演】"
   ]
  },
  {
   "cell_type": "code",
   "execution_count": 25,
   "metadata": {
    "cell_style": "split",
    "code_folding": [],
    "collapsed": true
   },
   "outputs": [],
   "source": [
    "# 辺の集合\n",
    "edges = [(\"e0\",\"e1\"),(\"e0\",\"e2\"),(\"e1\",\"e3\"),(\"e1\",\"e4\"),(\"e2\",\"e5\"),(\"e3\",\"e5\"),(\"e4\",\"e5\")]\n",
    "# 頂点の集合\n",
    "vertex_set = [\"e0\",\"e1\",\"e2\",\"e3\",\"e4\",\"e5\"]"
   ]
  },
  {
   "cell_type": "markdown",
   "metadata": {
    "cell_style": "split"
   },
   "source": [
    "<img src=\"../image/graphillion/sample.png\" width=60%>"
   ]
  },
  {
   "cell_type": "code",
   "execution_count": 26,
   "metadata": {
    "cell_style": "center",
    "scrolled": false
   },
   "outputs": [
    {
     "name": "stdout",
     "output_type": "stream",
     "text": [
      "e0 から e5 までのルートの総数は 3 通りです。\n"
     ]
    },
    {
     "data": {
      "text/plain": [
       "[{'num': 1, 'route': [('e0', 'e2'), ('e2', 'e5')]},\n",
       " {'num': 1, 'route': [('e0', 'e1'), ('e1', 'e3'), ('e3', 'e5')]},\n",
       " {'num': 1, 'route': [('e0', 'e1'), ('e1', 'e4'), ('e4', 'e5')]}]"
      ]
     },
     "execution_count": 26,
     "metadata": {},
     "output_type": "execute_result"
    }
   ],
   "source": [
    "rootnum(vertex_set, edges, True)"
   ]
  },
  {
   "cell_type": "markdown",
   "metadata": {},
   "source": [
    "***"
   ]
  },
  {
   "cell_type": "code",
   "execution_count": 27,
   "metadata": {
    "cell_style": "split",
    "code_folding": [],
    "collapsed": true
   },
   "outputs": [],
   "source": [
    "# 辺の集合\n",
    "edges = [(\"e0\",\"e1\"),(\"e0\",\"e3\"),(\"e1\",\"e2\"),(\"e1\",\"e4\"),(\"e3\",\"e4\"),(\"e3\",\"e6\"),(\"e2\",\"e5\"),(\"e4\",\"e5\"),(\"e4\",\"e7\"),(\"e6\",\"e7\"),(\"e5\",\"e8\"),(\"e7\",\"e8\")]\n",
    "# 頂点の集合\n",
    "vertex_set = [\"e0\",\"e1\",\"e2\",\"e3\",\"e4\",\"e5\",\"e6\",\"e7\",\"e8\"]"
   ]
  },
  {
   "cell_type": "markdown",
   "metadata": {
    "cell_style": "split"
   },
   "source": [
    "<img src=\"../image/graphillion/sample3.png\" width=50%>"
   ]
  },
  {
   "cell_type": "code",
   "execution_count": 28,
   "metadata": {
    "scrolled": false
   },
   "outputs": [
    {
     "name": "stdout",
     "output_type": "stream",
     "text": [
      "e0 から e8 までのルートの総数は 12 通りです。\n"
     ]
    },
    {
     "data": {
      "text/plain": [
       "[{'num': 4, 'route': [('e0', 'e1'), ('e1', 'e2'), ('e2', 'e5'), ('e5', 'e8')]},\n",
       " {'num': 2,\n",
       "  'route': [('e0', 'e3'),\n",
       "   ('e1', 'e2'),\n",
       "   ('e1', 'e4'),\n",
       "   ('e3', 'e6'),\n",
       "   ('e2', 'e5'),\n",
       "   ('e4', 'e7'),\n",
       "   ('e6', 'e7'),\n",
       "   ('e5', 'e8')]},\n",
       " {'num': 6, 'route': [('e0', 'e1'), ('e1', 'e4'), ('e4', 'e7'), ('e7', 'e8')]}]"
      ]
     },
     "execution_count": 28,
     "metadata": {},
     "output_type": "execute_result"
    }
   ],
   "source": [
    "rootnum(vertex_set, edges, True)"
   ]
  },
  {
   "cell_type": "markdown",
   "metadata": {},
   "source": [
    "***"
   ]
  },
  {
   "cell_type": "code",
   "execution_count": 29,
   "metadata": {
    "cell_style": "split",
    "collapsed": true
   },
   "outputs": [],
   "source": [
    "# 辺の集合\n",
    "edges = [(\"e0\",\"e1\"),(\"e0\",\"e4\"),(\"e1\",\"e2\"),(\"e1\",\"e5\"),(\"e4\",\"e5\"),(\"e4\",\"e8\"),(\"e2\",\"e3\"),(\"e2\",\"e6\"),(\"e5\",\"e6\"),(\"e5\",\"e9\"),(\"e8\",\"e9\"),(\"e8\",\"e12\"),(\"e3\",\"e7\"),(\"e6\",\"e7\"),(\"e6\",\"e10\"),(\"e9\",\"e10\"),(\"e9\",\"e13\"),(\"e12\",\"e13\"),(\"e7\",\"e11\"),(\"e10\",\"e11\"),(\"e10\",\"e14\"),(\"e13\",\"e14\"),(\"e11\",\"e15\"),(\"e14\",\"e15\")]\n",
    "# 頂点の集合\n",
    "vertex_set = [\"e0\",\"e1\",\"e2\",\"e3\",\"e4\",\"e5\",\"e6\",\"e7\",\"e8\",\"e9\",\"e10\",\"e11\",\"e12\",\"e13\",\"e14\",\"e15\"]"
   ]
  },
  {
   "cell_type": "markdown",
   "metadata": {
    "cell_style": "split"
   },
   "source": [
    "<img src=\"../image/graphillion/sample4.png\" width=50%>"
   ]
  },
  {
   "cell_type": "code",
   "execution_count": 37,
   "metadata": {
    "scrolled": false
   },
   "outputs": [
    {
     "name": "stdout",
     "output_type": "stream",
     "text": [
      "e0 から e15 までのルートの総数は 184 通りです。\n",
      "0.10709190368652344\n"
     ]
    }
   ],
   "source": [
    "import time\n",
    "s = time.time()\n",
    "rootnum(vertex_set, edges, True)\n",
    "print(time.time()-s)"
   ]
  },
  {
   "cell_type": "markdown",
   "metadata": {},
   "source": [
    "<img src=\"../image/graphillion/oneesan.png\" width=50%>"
   ]
  },
  {
   "cell_type": "markdown",
   "metadata": {},
   "source": [
    "***"
   ]
  },
  {
   "cell_type": "markdown",
   "metadata": {},
   "source": [
    "__　フロンティアと初期位置以外に出次数と入次数の和が２じゃないものがあったらそれあかん気がする。__"
   ]
  },
  {
   "cell_type": "markdown",
   "metadata": {},
   "source": [
    "<img src=\"../image/graphillion/oneesan2.png\" width=70%>"
   ]
  }
 ],
 "metadata": {
  "hide_input": false,
  "kernelspec": {
   "display_name": "Python 2",
   "language": "python",
   "name": "python2"
  },
  "language_info": {
   "codemirror_mode": {
    "name": "ipython",
    "version": 3
   },
   "file_extension": ".py",
   "mimetype": "text/x-python",
   "name": "python",
   "nbconvert_exporter": "python",
   "pygments_lexer": "ipython3",
   "version": "3.6.3"
  }
 },
 "nbformat": 4,
 "nbformat_minor": 2
}
