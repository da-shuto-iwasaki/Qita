{
 "cells": [
  {
   "cell_type": "markdown",
   "metadata": {},
   "source": [
    "# ZDDのグラフアルゴリズム\n",
    "__　授業でせっかく習ったので、ZDDのグラフアルゴリズムを実際に`python`で書いてみた。11/11現在圧縮がうまくいっていない様子__"
   ]
  },
  {
   "cell_type": "code",
   "execution_count": 1,
   "metadata": {
    "collapsed": true
   },
   "outputs": [],
   "source": [
    "# 必要なモジュールのインポート\n",
    "import collections\n",
    "import copy"
   ]
  },
  {
   "cell_type": "markdown",
   "metadata": {},
   "source": [
    "## フロンティア"
   ]
  },
  {
   "cell_type": "code",
   "execution_count": 2,
   "metadata": {
    "code_folding": [
     0
    ],
    "collapsed": true
   },
   "outputs": [],
   "source": [
    "def update_frontier(frontier,edge,edges,counter):\n",
    "    \"\"\"\n",
    "    関数の概要：以前までのフロンティアと獲得エッジからフロンティアを更新する。フロンティアは全ての場合で等しいので、一括計算。\n",
    "    　　　　　　一般に、１つの頂点で、「入次数の数ー１」だけフロンティアは増える。\n",
    "    @param frontier ：以前までのフロンティア\n",
    "    @param edge     ：新規獲得エッジ\n",
    "    @param edges    ：エッジ集合\n",
    "    @param counter  ：エッジの入次数を記録している辞書\n",
    "    @return frontier：更新後のフロンティア\n",
    "    \"\"\"\n",
    "    # 入次数が２で、新しい辺の終点の頂点番号が小さかったら追加するだけ。\n",
    "    if counter[edge[0]] == 2 and edge[1] == [edges[i][1] for i in range(len(edges)) if edges[i][0] == edge[0]][0]:\n",
    "        frontier.append(edge[1])\n",
    "    # 入次数が２で、新しい辺の終点の頂点番号が大きかったら始点を削除して終点を追加する。\n",
    "    elif counter[edge[0]] == 2 and edge[1] == [edges[i][1] for i in range(len(edges)) if edges[i][0] == edge[0]][1]:\n",
    "        frontier.remove(edge[0])\n",
    "        frontier.append(edge[1])\n",
    "    # 入次数が１の場合は、始点を削除して終点を追加する。\n",
    "    elif counter[edge[0]] == 1:\n",
    "        frontier.remove(edge[0])\n",
    "        frontier.append(edge[1])\n",
    "    else:\n",
    "        print(\"予想外のedge: {}です!!\".format(edge))\n",
    "    \n",
    "    # 重複を削除する。\n",
    "    new_frontier = list(set(frontier))\n",
    "    return new_frontier"
   ]
  },
  {
   "cell_type": "code",
   "execution_count": 3,
   "metadata": {
    "code_folding": [
     0
    ],
    "collapsed": true
   },
   "outputs": [],
   "source": [
    "def print_frontier(edges, num=False):\n",
    "    \"\"\"\n",
    "    関数の概要：フロンティアの遷移を見る。\n",
    "    　　　　　　番号を指定すればそのタイミングだけを表示する。\n",
    "    @param edges：利用するエッジの情報\n",
    "    @param num  ：指定する番号\n",
    "    \"\"\"\n",
    "    frontier = [edges[0][0]]\n",
    "    if not num: \n",
    "        num = [i for i in range(len(edges))] \n",
    "    else:\n",
    "        num=[num-1]\n",
    "    counter = collections.Counter([edge[0] for edge in edges])\n",
    "    print(\"00: initial frontier:              {}\".format(frontier))\n",
    "    for i in range(len(edges)):          \n",
    "        frontier = update_frontier(frontier, edges[i], edges, counter)\n",
    "        if i in num:  \n",
    "            print(\"{:0=2}: new_edge:{} frontier:{}\".format(i+1,edges[i],frontier))"
   ]
  },
  {
   "cell_type": "code",
   "execution_count": 4,
   "metadata": {},
   "outputs": [
    {
     "name": "stdout",
     "output_type": "stream",
     "text": [
      "00: initial frontier:              ['e0']\n",
      "01: new_edge:('e0', 'e1') frontier:['e0', 'e1']\n",
      "02: new_edge:('e0', 'e2') frontier:['e2', 'e1']\n",
      "03: new_edge:('e1', 'e3') frontier:['e3', 'e1', 'e2']\n",
      "04: new_edge:('e1', 'e4') frontier:['e3', 'e4', 'e2']\n",
      "05: new_edge:('e2', 'e5') frontier:['e3', 'e4', 'e5']\n",
      "06: new_edge:('e3', 'e5') frontier:['e4', 'e5']\n",
      "07: new_edge:('e4', 'e5') frontier:['e5']\n"
     ]
    }
   ],
   "source": [
    "# 辺の集合\n",
    "edges = [(\"e0\",\"e1\"),(\"e0\",\"e2\"),(\"e1\",\"e3\"),(\"e1\",\"e4\"),(\"e2\",\"e5\"),(\"e3\",\"e5\"),(\"e4\",\"e5\")]\n",
    "# フロンティアの遷移を確認する。\n",
    "print_frontier(edges)"
   ]
  },
  {
   "cell_type": "markdown",
   "metadata": {},
   "source": [
    "## mate配列"
   ]
  },
  {
   "cell_type": "code",
   "execution_count": 5,
   "metadata": {
    "code_folding": [
     0
    ],
    "collapsed": true
   },
   "outputs": [],
   "source": [
    "def update_mate_arr(mate, frontier, current_edges):\n",
    "    \"\"\"\n",
    "    関数の概要：mate配列を更新する。\n",
    "    @patam mate         ：以前までのmate配列（dict）\n",
    "    @param frontier     ：更新後のフロンティア\n",
    "    @param current_edges：獲得したエッジ集合\n",
    "    @return new_mate    ：更新後のmate配列（dict）  \n",
    "    \"\"\"\n",
    "    start = list(mate.keys())[0]\n",
    "    end   = list(mate.keys())[-1]\n",
    "    for f in range(len(frontier)):\n",
    "        flag=False # ループに入るかの識別子\n",
    "        loop = 0   # ループの回数を記録する。\n",
    "        # 獲得したエッジ集合から、フロンティアの入次数を求める。\n",
    "        in_edges  = [current_edges[i][0] for i in range(len(current_edges)) if current_edges[i][1] == frontier[f]]\n",
    "        out_edges = [current_edges[i][1] for i in range(len(current_edges)) if current_edges[i][0] == frontier[f]]\n",
    "        N_in  = len(in_edges)\n",
    "        N_out = len(out_edges) # 出自数の数  \n",
    "        # 入次数、出次数共に０だったら、頂点の名前になる。\n",
    "        if N_in+N_out == 0:\n",
    "            mate[frontier[f]] = frontier[f]\n",
    "        # 入次数と出次数の和が２(=途中にある)の場合は０。    \n",
    "        elif N_in + N_out>=2:\n",
    "            mate[frontier[f]] = \"0\"\n",
    "        # 入次数が１つだったら、逆端まで探索する。\n",
    "        elif N_in == 1:\n",
    "            edge = in_edges[0]\n",
    "            b_edge = frontier[f] # １つ前のedgeを記録\n",
    "            flag = True\n",
    "        # 入次数は０だが、出次数が１の場合\n",
    "        elif N_out == 1:\n",
    "            edge = out_edges[0]\n",
    "            b_edge = frontier[f]\n",
    "            flag=True           \n",
    "        # 探索を続ける。\n",
    "        while flag and loop<len(current_edges): # 全てエッジを通っても終わらない＝ループが起きている。\n",
    "            in_edges  = [current_edges[i][0] for i in range(len(current_edges)) if current_edges[i][1] == edge]\n",
    "            out_edges = [current_edges[i][1] for i in range(len(current_edges)) if current_edges[i][0] == edge]\n",
    "            N_in  = len(in_edges)  # 入次数の数\n",
    "            N_out = len(out_edges) # 出自数の数                           \n",
    "            # 端にたどり着いた場合\n",
    "            if N_in + N_out == 1:\n",
    "                mate[frontier[f]] = edge\n",
    "                break\n",
    "            # 端ではない場合は、端まで探索する。\n",
    "            elif N_in == 2:\n",
    "                if edge==end and loop!=0:\n",
    "                    mate[frontier[f]] == \"1\"\n",
    "                    break\n",
    "                tmp = edge\n",
    "                edge = [in_edges[i] for i in range(len(in_edges)) if in_edges[i]!=b_edge][0]\n",
    "                b_edge = tmp\n",
    "            elif N_out == 2:\n",
    "                if edge== start and loop!=0:\n",
    "                    mate[frontier[f]] == \"1\"\n",
    "                    break\n",
    "                tmp = edge\n",
    "                edge = [out_edges[i] for i in range(len(out_edges)) if out_edges[i]!=b_edge][0]\n",
    "                b_edge = tmp\n",
    "            elif N_in==1 and N_out==1:\n",
    "                tmp_edges = in_edges+out_edges\n",
    "                tmp = edge\n",
    "                edge = [tmp_edges[i] for i in range(len(tmp_edges)) if tmp_edges[i]!=b_edge][0]\n",
    "                b_edge = tmp  \n",
    "            loop+=1\n",
    "        # 「エッジの数だけ遡っても端につかない」＝「ループができている」ため、削除する。\n",
    "        if loop!=0 and loop==len(current_edges):\n",
    "            for k in range(len(frontier)):\n",
    "                mate[frontier[k]] = \"0\"\n",
    "            return mate\n",
    "    return mate"
   ]
  },
  {
   "cell_type": "code",
   "execution_count": 6,
   "metadata": {
    "code_folding": [
     0
    ],
    "collapsed": true
   },
   "outputs": [],
   "source": [
    "def print_matearr(vertex_set, edges, check_edges, num=False):\n",
    "    \"\"\"\n",
    "    関数の概要：ある辺を取得した時のmate配列の遷移を表示する。\n",
    "    @param vertex_set ：グラフの頂点集合\n",
    "    @param edges      ：グラフの辺の集合\n",
    "    @param check_edges：調べたい辺の集合\n",
    "    @param frontier   ：フロンティア\n",
    "    \"\"\"\n",
    "    current_edges = [] # 取得したエッジの初期化。\n",
    "    mate_dict = dict() # mate配列の初期化\n",
    "    for i in range(len(vertex_set)): mate_dict[vertex_set[i]] = vertex_set[i]\n",
    "    counter = collections.Counter([edge[0] for edge in edges]) # カウンターの作成。\n",
    "    frontier = vertex_set[:1]\n",
    "    \n",
    "    if not num: \n",
    "        num = [i for i in range(len(edges))] \n",
    "    else:\n",
    "        num=[num-1]\n",
    "    \n",
    "    for i in range(len(edges)):\n",
    "        frontier = update_frontier(frontier, edges[i], edges, counter) # フロンティアの更新\n",
    "        if edges[i] in check_edges: # 入っているものだけを取る。\n",
    "            current_edges.append(edges[i])\n",
    "        mate_dict = update_mate_arr(mate_dict, frontier, current_edges)  \n",
    "        if i in num:  \n",
    "            print(\"{:0=2}: new_edge     :{} {}\".format(i+1,edges[i],\"◯\" if edges[i] in check_edges else \"×\"))\n",
    "            print(\"    mate array   :{}\".format({k:v for k, v in mate_dict.items() if k in frontier}))\n",
    "            print(\"    current edges:{}\\n\".format(current_edges))        "
   ]
  },
  {
   "cell_type": "code",
   "execution_count": 18,
   "metadata": {
    "cell_style": "split"
   },
   "outputs": [
    {
     "name": "stdout",
     "output_type": "stream",
     "text": [
      "04: new_edge     :('e1', 'e4') ◯\n",
      "    mate array   :{'e2': 'e0', 'e3': 'e4', 'e4': 'e3'}\n",
      "    current edges:[('e0', 'e2'), ('e1', 'e3'), ('e1', 'e4')]\n",
      "\n"
     ]
    }
   ],
   "source": [
    "# 確認\n",
    "# 辺の集合\n",
    "edges = [(\"e0\",\"e1\"),(\"e0\",\"e2\"),(\"e1\",\"e3\"),(\"e1\",\"e4\"),(\"e2\",\"e5\"),(\"e3\",\"e5\"),(\"e4\",\"e5\")]\n",
    "# 頂点の集合\n",
    "vertex_set = [\"e0\",\"e1\",\"e2\",\"e3\",\"e4\",\"e5\"]\n",
    "check_edges = [(\"e0\",\"e2\"),(\"e1\",\"e3\"),(\"e1\",\"e4\")]\n",
    "print_matearr(vertex_set, edges, check_edges, 4)"
   ]
  },
  {
   "cell_type": "markdown",
   "metadata": {
    "cell_style": "split"
   },
   "source": [
    "<img src=\"../image/graphillion/sample2.png\" width=50%>"
   ]
  },
  {
   "cell_type": "markdown",
   "metadata": {},
   "source": [
    "## 一筆書き"
   ]
  },
  {
   "cell_type": "code",
   "execution_count": 8,
   "metadata": {
    "code_folding": [
     0
    ],
    "collapsed": true
   },
   "outputs": [],
   "source": [
    "def One_stroke(edges, start, end):\n",
    "    \"\"\"\n",
    "    関数の概要：一筆書きできるかを判断する関数\n",
    "    @param edges：調べたいエッジ\n",
    "    @param start：始点\n",
    "    @param end  ：終点\n",
    "    @return：True or False\n",
    "    \"\"\"\n",
    "    out_edges = [edges[i][1] for i in range(len(edges)) if edges[i][0] == start]\n",
    "    edge = out_edges[0]\n",
    "    b_edge = start\n",
    "    count = 0; flag=False\n",
    "    while count<len(edges):\n",
    "        count += 1\n",
    "        in_edges  = [edges[i][0] for i in range(len(edges)) if edges[i][1] == edge]\n",
    "        out_edges = [edges[i][1] for i in range(len(edges)) if edges[i][0] == edge]\n",
    "        N_in  = len(in_edges)  # 入次数の数\n",
    "        N_out = len(out_edges) # 出自数の数\n",
    "        if N_in + N_out == 1:\n",
    "            flag = (edge == end) # 最後までたどり着いたかの確認。\n",
    "            break\n",
    "        elif N_in == 2:\n",
    "            tmp = edge\n",
    "            edge = [in_edges[i] for i in range(len(in_edges)) if in_edges[i]!=b_edge][0]\n",
    "            b_edge = tmp\n",
    "        elif N_out == 2:\n",
    "            tmp = edge\n",
    "            edge = [out_edges[i] for i in range(len(out_edges)) if out_edges[i]!=b_edge][0]\n",
    "            b_edge = tmp\n",
    "        elif N_in==1 and N_out==1:\n",
    "            tmp_edges = in_edges+out_edges\n",
    "            tmp = edge\n",
    "            edge = [tmp_edges[i] for i in range(len(tmp_edges)) if tmp_edges[i]!=b_edge][0]\n",
    "            b_edge = tmp\n",
    "    return count==len(edges) and flag"
   ]
  },
  {
   "cell_type": "code",
   "execution_count": 9,
   "metadata": {
    "code_folding": [
     0
    ],
    "collapsed": true
   },
   "outputs": [],
   "source": [
    "def bad_One_stroke(count_list):\n",
    "    \"\"\"\n",
    "    関数の概要：一筆書きできるかを判断する。ただし、ループに対処できないためやめた。\n",
    "    @param count_list：それぞれのノードが関わる回数を記録したリスト\n",
    "    @return flag：できるならTrue, できないならFalse\n",
    "    \"\"\"\n",
    "    flag = False\n",
    "    for i in range(len(count_list)):\n",
    "        if i == 0:\n",
    "            if count_list[i] != 1:\n",
    "                break\n",
    "        elif i == len(count_list)-1:\n",
    "            if count_list[i] != 1:\n",
    "                break\n",
    "            flag = True\n",
    "        else:\n",
    "            if count_list[i] != 2:\n",
    "                break\n",
    "    return flag"
   ]
  },
  {
   "cell_type": "code",
   "execution_count": 80,
   "metadata": {
    "code_folding": [
     0
    ],
    "collapsed": true
   },
   "outputs": [],
   "source": [
    "def Flatten_dual(dual_list):\n",
    "    \"\"\"\n",
    "    関数の概要：二重リストを一重にする関数\n",
    "    \"\"\"\n",
    "    return [element for inner_list in dual_list for element in inner_list]"
   ]
  },
  {
   "cell_type": "code",
   "execution_count": 89,
   "metadata": {
    "code_folding": [
     0
    ]
   },
   "outputs": [],
   "source": [
    "def Remove_impossible(edges, frontier, start):\n",
    "    edge_elements = Flatten_dual(edges)\n",
    "    counter = collections.Counter([edge for edge in edge_elements])\n",
    "    check_list = [k for k, v in counter.items() if k not in frontier]\n",
    "    check_list.remove(start)\n",
    "    for i in range(len(check_list)):\n",
    "        if counter[check_list[i]] == 1:\n",
    "            return False\n",
    "    return True"
   ]
  },
  {
   "cell_type": "code",
   "execution_count": 90,
   "metadata": {},
   "outputs": [
    {
     "data": {
      "text/plain": [
       "False"
      ]
     },
     "execution_count": 90,
     "metadata": {},
     "output_type": "execute_result"
    }
   ],
   "source": [
    "Remove_impossible([(\"e0\",\"e3\"),(\"e3\",\"e4\"),(\"e1\",\"e2\")], [\"e4\",\"e5\",\"e6\"], \"e0\")"
   ]
  },
  {
   "cell_type": "code",
   "execution_count": 91,
   "metadata": {},
   "outputs": [
    {
     "data": {
      "text/plain": [
       "True"
      ]
     },
     "execution_count": 91,
     "metadata": {},
     "output_type": "execute_result"
    }
   ],
   "source": [
    "Remove_impossible([(\"e0\",\"e3\"),(\"e3\",\"e4\")], [\"e4\",\"e5\",\"e6\"], \"e0\")"
   ]
  },
  {
   "cell_type": "code",
   "execution_count": 10,
   "metadata": {},
   "outputs": [
    {
     "name": "stdout",
     "output_type": "stream",
     "text": [
      "一筆書き可能\n",
      "一筆書き不可能\n"
     ]
    }
   ],
   "source": [
    "# 確認\n",
    "edges_set = [(\"e0\",\"e1\"),(\"e1\",\"e3\"),(\"e3\",\"e4\")]\n",
    "print(\"一筆書き可能\" if One_stroke(edges_set, start=\"e0\", end=\"e4\") else \"一筆書き不可能\")\n",
    "print(\"一筆書き可能\" if One_stroke(edges_set, start=\"e1\", end=\"e4\") else \"一筆書き不可能\")"
   ]
  },
  {
   "cell_type": "markdown",
   "metadata": {},
   "source": [
    "## メインプログラム"
   ]
  },
  {
   "cell_type": "code",
   "execution_count": 11,
   "metadata": {
    "code_folding": [],
    "collapsed": true
   },
   "outputs": [],
   "source": [
    "def rootnum(vertex_set, edges, flag=False):\n",
    "    \"\"\"\n",
    "    関数の概要：ルートの総数を調べる。\n",
    "    @param vertex_set ：グラフの頂点集合\n",
    "    @param edges      ：グラフの辺の集合\n",
    "    @param flag       ：エッジ集合を表示するか\n",
    "    \"\"\"\n",
    "    start = vertex_set[0]\n",
    "    end   = vertex_set[-1]\n",
    "    frontier = vertex_set[:1] # 頂点集合の最初がスタートと仮定する。\n",
    "    mate_dict = dict()        # mate配列の初期化。\n",
    "    for i in range(len(vertex_set)): mate_dict[vertex_set[i]] = vertex_set[i]        \n",
    "    edges_set = [[[],1,mate_dict]]# 初期化。\n",
    "    counter = collections.Counter([edge[0] for edge in edges])\n",
    "    answer = 0          # 求めたいルートの数\n",
    "    answer_list = []\n",
    "    \n",
    "    edges_set = [[[],1,mate_dict]] # 初期化\n",
    "    for i in range(len(edges)):\n",
    "        # 新しいノードを獲得する処理\n",
    "        frontier = update_frontier(frontier, edges[i], edges, counter) # フロンティアを更新する。\n",
    "        edges_set_get = copy.deepcopy(edges_set) # 新規のエッジを獲得する方\n",
    "        edges_set_not = copy.deepcopy(edges_set) # 新規のエッジを獲得しない方\n",
    "        for j in range(len(edges_set_get)): \n",
    "            edges_set_get[j][0].append(edges[i])\n",
    "        edges_set = edges_set_get+edges_set_not\n",
    "\n",
    "        # mate配列を更新する\n",
    "        for j in range(len(edges_set)):\n",
    "            edges_set[j] = [edges_set[j][0],\n",
    "                            edges_set[j][1],\n",
    "                            update_mate_arr(edges_set[j][2],frontier,edges_set[j][0])]\n",
    "\n",
    "        # [mate配列]をkey,[edgeの数,個数,edge]をvalueにする。\n",
    "        result_dict = dict() # 圧縮で同じものを探すために辞書にしたが、しないのであればリストでも可能\n",
    "        for j in range(len(edges_set)):\n",
    "            # フロンティア部分のmate配列。タプルにすることで辞書のキーにできる。\n",
    "            mate_list = edges_set[j][2] # mate配列\n",
    "            mate_id = (edges_set[j][2][frontier[f]] for f in range(len(frontier)))\n",
    "            # mate_key = \"\".join([edges_set[j][2][frontier[f]] for f in range(len(frontier))])\n",
    "            N_edges = len(edges_set[j][0])       # 獲得したエッジの数\n",
    "            get_edges = edges_set[j][0]          # 獲得したエッジの数\n",
    "            num = edges_set[j][1]                # これより前で圧縮された同じものの数\n",
    "            if start in mate_id:                 # 始点がmate配列にないものはゴールできないので、ここで削除する。\n",
    "\n",
    "                if end in frontier:              # 終点がmate配列に入っていれば\n",
    "                    if mate_list[end] == start:  # 始点と終点が繋がっていれば\n",
    "                        if One_stroke(get_edges,start=start, end=end): # 一筆書きできれば加え、できないのであれば削除する。\n",
    "                            if flag: answer_list.append(get_edges)\n",
    "                            answer+=num\n",
    "                        continue\n",
    "                        \n",
    "                # mate配列の同じものがあれば、エッジ数の少ないものを残して圧縮する。\n",
    "                \"\"\"\n",
    "                if mate_key in result_dict:\n",
    "                    print(i, get_edges)\n",
    "                    print(result_dict[mate_key])\n",
    "                    result_dict[mate_key][2] += num # 同じものはまとめる。\n",
    "                    # エッジ数が少なくなるのであれば、更新する。\n",
    "                    if result_dict[mate_key][0] > N_edges:\n",
    "                        result_dict[mate_key][0] = N_edges\n",
    "                        result_dict[mate_key][1] = get_edges\n",
    "                        result_dict[mate_key][3] = mate_list\n",
    "                \n",
    "                else:\n",
    "                    result_dict[mate_key] = [N_edges, get_edges, num, mate_list]\n",
    "                \"\"\"\n",
    "                result_dict[mate_id] = [N_edges, get_edges, num, mate_list]\n",
    "        \n",
    "        # 圧縮&NGを削除後を回収する。\n",
    "        edges_set = []\n",
    "        for k,v in result_dict.items():\n",
    "            edges_set.append([v[1],v[2],v[3]])\n",
    "\n",
    "    print(\"{} から {} までのルートの総数は {} 通りです。\".format(start,end,answer))\n",
    "    if flag: return answer_list"
   ]
  },
  {
   "cell_type": "markdown",
   "metadata": {
    "collapsed": true
   },
   "source": [
    "***\n",
    "***"
   ]
  },
  {
   "cell_type": "markdown",
   "metadata": {},
   "source": [
    "# 【実演】"
   ]
  },
  {
   "cell_type": "code",
   "execution_count": 12,
   "metadata": {
    "cell_style": "split",
    "code_folding": [],
    "collapsed": true
   },
   "outputs": [],
   "source": [
    "# 辺の集合\n",
    "edges = [(\"e0\",\"e1\"),(\"e0\",\"e2\"),(\"e1\",\"e3\"),(\"e1\",\"e4\"),(\"e2\",\"e5\"),(\"e3\",\"e5\"),(\"e4\",\"e5\")]\n",
    "# 頂点の集合\n",
    "vertex_set = [\"e0\",\"e1\",\"e2\",\"e3\",\"e4\",\"e5\"]"
   ]
  },
  {
   "cell_type": "markdown",
   "metadata": {
    "cell_style": "split"
   },
   "source": [
    "<img src=\"../image/graphillion/sample.png\" width=60%>"
   ]
  },
  {
   "cell_type": "code",
   "execution_count": 13,
   "metadata": {
    "cell_style": "center",
    "scrolled": false
   },
   "outputs": [
    {
     "name": "stdout",
     "output_type": "stream",
     "text": [
      "e0 から e5 までのルートの総数は 3 通りです。\n"
     ]
    }
   ],
   "source": [
    "rootnum(vertex_set, edges)"
   ]
  },
  {
   "cell_type": "markdown",
   "metadata": {},
   "source": [
    "***"
   ]
  },
  {
   "cell_type": "code",
   "execution_count": 14,
   "metadata": {
    "cell_style": "split",
    "code_folding": [],
    "collapsed": true
   },
   "outputs": [],
   "source": [
    "# 辺の集合\n",
    "edges = [(\"e0\",\"e1\"),(\"e0\",\"e3\"),(\"e1\",\"e2\"),(\"e1\",\"e4\"),(\"e3\",\"e4\"),(\"e3\",\"e6\"),(\"e2\",\"e5\"),(\"e4\",\"e5\"),(\"e4\",\"e7\"),(\"e6\",\"e7\"),(\"e5\",\"e8\"),(\"e7\",\"e8\")]\n",
    "# 頂点の集合\n",
    "vertex_set = [\"e0\",\"e1\",\"e2\",\"e3\",\"e4\",\"e5\",\"e6\",\"e7\",\"e8\"]"
   ]
  },
  {
   "cell_type": "markdown",
   "metadata": {
    "cell_style": "split"
   },
   "source": [
    "<img src=\"../image/graphillion/sample3.png\" width=50%>"
   ]
  },
  {
   "cell_type": "code",
   "execution_count": 15,
   "metadata": {
    "scrolled": false
   },
   "outputs": [
    {
     "name": "stdout",
     "output_type": "stream",
     "text": [
      "e0 から e8 までのルートの総数は 12 通りです。\n"
     ]
    }
   ],
   "source": [
    "rootnum(vertex_set, edges)"
   ]
  },
  {
   "cell_type": "markdown",
   "metadata": {},
   "source": [
    "***"
   ]
  },
  {
   "cell_type": "code",
   "execution_count": 16,
   "metadata": {
    "cell_style": "split",
    "collapsed": true
   },
   "outputs": [],
   "source": [
    "# 辺の集合\n",
    "edges = [(\"e0\",\"e1\"),(\"e0\",\"e4\"),(\"e1\",\"e2\"),(\"e1\",\"e5\"),(\"e4\",\"e5\"),(\"e4\",\"e8\"),(\"e2\",\"e3\"),(\"e2\",\"e6\"),(\"e5\",\"e6\"),(\"e5\",\"e9\"),(\"e8\",\"e9\"),(\"e8\",\"e12\"),(\"e3\",\"e7\"),(\"e6\",\"e7\"),(\"e6\",\"e10\"),(\"e9\",\"e10\"),(\"e9\",\"e13\"),(\"e12\",\"e13\"),(\"e7\",\"e11\"),(\"e10\",\"e11\"),(\"e10\",\"e14\"),(\"e13\",\"e14\"),(\"e11\",\"e15\"),(\"e14\",\"e15\")]\n",
    "# 頂点の集合\n",
    "vertex_set = [\"e0\",\"e1\",\"e2\",\"e3\",\"e4\",\"e5\",\"e6\",\"e7\",\"e8\",\"e9\",\"e10\",\"e11\",\"e12\",\"e13\",\"e14\",\"e15\"]"
   ]
  },
  {
   "cell_type": "markdown",
   "metadata": {
    "cell_style": "split"
   },
   "source": [
    "<img src=\"../image/graphillion/sample4.png\" width=50%>"
   ]
  },
  {
   "cell_type": "code",
   "execution_count": 17,
   "metadata": {
    "scrolled": true
   },
   "outputs": [
    {
     "name": "stdout",
     "output_type": "stream",
     "text": [
      "e0 から e15 までのルートの総数は 184 通りです。\n"
     ]
    }
   ],
   "source": [
    "rootnum(vertex_set, edges)"
   ]
  },
  {
   "cell_type": "markdown",
   "metadata": {},
   "source": [
    "<img src=\"../image/graphillion/oneesan.png\" width=50%>"
   ]
  },
  {
   "cell_type": "markdown",
   "metadata": {},
   "source": [
    "__　お姉さんがこれぐらい疲れてしまう $4×4$ ぐらいなら計算できたが、このままだと結構時間がかかってしまう。圧縮をするアルゴリズムを作成しなくてはならない。__"
   ]
  },
  {
   "cell_type": "markdown",
   "metadata": {},
   "source": [
    "***"
   ]
  },
  {
   "cell_type": "markdown",
   "metadata": {},
   "source": [
    "## 圧縮について"
   ]
  },
  {
   "cell_type": "markdown",
   "metadata": {},
   "source": [
    "__　以下の２つはmate配列が一致してしまい、これを一致させることができない。どのようにして圧縮をすれば良いのだろうか…__"
   ]
  },
  {
   "cell_type": "markdown",
   "metadata": {},
   "source": [
    "<img src=\"../image/graphillion/mate_compression.png\" width=50%>"
   ]
  },
  {
   "cell_type": "markdown",
   "metadata": {},
   "source": [
    "__　フロンティアと初期位置以外に出次数と入次数の和が２じゃないものがあったらそれあかん気がする。__"
   ]
  },
  {
   "cell_type": "markdown",
   "metadata": {},
   "source": [
    "<img src=\"../image/graphillion/oneesan2.png\" width=70%>"
   ]
  },
  {
   "cell_type": "code",
   "execution_count": null,
   "metadata": {
    "collapsed": true
   },
   "outputs": [],
   "source": []
  }
 ],
 "metadata": {
  "hide_input": false,
  "kernelspec": {
   "display_name": "Python 2",
   "language": "python",
   "name": "python2"
  },
  "language_info": {
   "codemirror_mode": {
    "name": "ipython",
    "version": 3
   },
   "file_extension": ".py",
   "mimetype": "text/x-python",
   "name": "python",
   "nbconvert_exporter": "python",
   "pygments_lexer": "ipython3",
   "version": "3.6.3"
  }
 },
 "nbformat": 4,
 "nbformat_minor": 2
}
