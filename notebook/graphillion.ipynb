{
 "cells": [
  {
   "cell_type": "markdown",
   "metadata": {},
   "source": [
    "# ZDDのグラフアルゴリズム"
   ]
  },
  {
   "cell_type": "markdown",
   "metadata": {},
   "source": [
    "## サンプル\n",
    "　__今回考えるのは、以下の図。幅優先探索で、各頂点に名前をつける__"
   ]
  },
  {
   "cell_type": "markdown",
   "metadata": {},
   "source": [
    "<img src=\"../image/graphillion/sample.png\" width=40%>"
   ]
  },
  {
   "cell_type": "code",
   "execution_count": 1,
   "metadata": {
    "collapsed": true
   },
   "outputs": [],
   "source": [
    "# 必要なモジュールのインポート\n",
    "import collections\n",
    "import copy"
   ]
  },
  {
   "cell_type": "code",
   "execution_count": 2,
   "metadata": {
    "collapsed": true
   },
   "outputs": [],
   "source": [
    "edges = [(\"e0\",\"e1\"),(\"e0\",\"e2\"),(\"e1\",\"e3\"),(\"e1\",\"e4\"),(\"e2\",\"e5\"),(\"e3\",\"e5\"),(\"e4\",\"e5\")]\n",
    "# 頂点の集合\n",
    "vertex_set = [\"e0\",\"e1\",\"e2\",\"e3\",\"e4\",\"e5\"]\n",
    "# mate配列"
   ]
  },
  {
   "cell_type": "code",
   "execution_count": 3,
   "metadata": {
    "collapsed": true
   },
   "outputs": [],
   "source": [
    "# 入次数を辞書で記録\n",
    "counter = collections.Counter([edge[0] for edge in edges])"
   ]
  },
  {
   "cell_type": "markdown",
   "metadata": {},
   "source": [
    "```\n",
    "# 始点(\"e1\")で条件をしぼって終点を抽出する\n",
    "[edges[i][1] for i in range(len(edges)) if edges[i][0] == \"e1\"]\n",
    "# 終点(\"e1\")で条件をしぼって始点を抽出する\n",
    "[edges[i][0] for i in range(len(edges)) if edges[i][1] == \"e1\"]\n",
    "```"
   ]
  },
  {
   "cell_type": "markdown",
   "metadata": {},
   "source": [
    "## アルゴリズム"
   ]
  },
  {
   "cell_type": "code",
   "execution_count": 4,
   "metadata": {
    "collapsed": true
   },
   "outputs": [],
   "source": [
    "def update_frontier(frontier,edge,edges,counter):\n",
    "    \"\"\"\n",
    "    関数の概要：以前までのフロンティアと獲得エッジからフロンティアを更新する。フロンティアは全ての場合で等しいので、一括計算。\n",
    "    　　　　　　一般に、１つの頂点で、「入次数の数ー１」だけフロンティアは増える。\n",
    "    @param frontier ：以前までのフロンティア\n",
    "    @param edge     ：新規獲得エッジ\n",
    "    @param edges    ：エッジ集合\n",
    "    @param counter  ：エッジの入次数を記録している辞書\n",
    "    @return frontier：更新後のフロンティア\n",
    "    \"\"\"\n",
    "    # 入次数が２で、新しい辺の終点の頂点番号が小さかったら追加するだけ。\n",
    "    if counter[edge[0]] == 2 and edge[1] == [edges[i][1] for i in range(len(edges)) if edges[i][0] == edge[0]][0]:\n",
    "        frontier.append(edge[1])\n",
    "    # 入次数が２で、新しい辺の終点の頂点番号が大きかったら始点を削除して終点を追加する。\n",
    "    elif counter[edge[0]] == 2 and edge[1] == [edges[i][1] for i in range(len(edges)) if edges[i][0] == edge[0]][1]:\n",
    "        frontier.remove(edge[0])\n",
    "        frontier.append(edge[1])\n",
    "    # 入次数が１の場合は、始点を削除して終点を追加する。\n",
    "    elif counter[edge[0]] == 1:\n",
    "        frontier.remove(edge[0])\n",
    "        frontier.append(edge[1])\n",
    "    else:\n",
    "        print(\"予想外のedge: {}です!!\".format(edge))\n",
    "    \n",
    "    # 重複を削除する。\n",
    "    new_frontier = list(set(frontier))\n",
    "    return new_frontier"
   ]
  },
  {
   "cell_type": "code",
   "execution_count": 5,
   "metadata": {
    "cell_style": "split"
   },
   "outputs": [
    {
     "name": "stdout",
     "output_type": "stream",
     "text": [
      "['e0']\n",
      "['e1', 'e0']\n",
      "['e1', 'e2']\n",
      "['e1', 'e2', 'e3']\n",
      "['e4', 'e2', 'e3']\n",
      "['e4', 'e5', 'e3']\n",
      "['e4', 'e5']\n",
      "['e5']\n"
     ]
    }
   ],
   "source": [
    "# 確認\n",
    "frontier = [\"e0\"]\n",
    "print(frontier)\n",
    "for i in range(len(edges)):\n",
    "    frontier = update_frontier(frontier, edges[i], edges, counter)\n",
    "    print(frontier)"
   ]
  },
  {
   "cell_type": "markdown",
   "metadata": {
    "cell_style": "split"
   },
   "source": [
    "<img src=\"../image/graphillion/sample.png\" width=60%>"
   ]
  },
  {
   "cell_type": "markdown",
   "metadata": {},
   "source": [
    "***"
   ]
  },
  {
   "cell_type": "code",
   "execution_count": 101,
   "metadata": {},
   "outputs": [],
   "source": [
    "def update_mate_arr(mate, frontier, current_edges):\n",
    "    \"\"\"\n",
    "    関数の概要：mate配列を更新する。\n",
    "    @patam mate         ：以前までのmate配列（dict）\n",
    "    @param frontier     ：更新後のフロンティア\n",
    "    @param current_edges：獲得したエッジ集合\n",
    "    @return new_mate    ：更新後のmate配列（dict）  \n",
    "    \"\"\"\n",
    "    for f in range(len(frontier)):\n",
    "        # 獲得したエッジ集合から、フロンティアの入次数を求める。\n",
    "        in_edges  = [current_edges[i][0] for i in range(len(current_edges)) if current_edges[i][1] == frontier[f]]\n",
    "        N_in  = len(in_edges)\n",
    "        # 入次数が０だったら、頂点の名前になる。\n",
    "        if N_in == 0:\n",
    "            mate[frontier[f]] = frontier[f]\n",
    "        # 入次数が２(=途中にある)場合は０。\n",
    "        elif N_in == 2:\n",
    "            mate[frontier[f]] = 0\n",
    "        # 入次数が１つだったら、逆端まで探索する。\n",
    "        elif N_in == 1:\n",
    "            edge = in_edges[0]\n",
    "            b_edge = frontier[f] # １つ前のedgeを記録\n",
    "            # 戻った先で入次数と出次数を調べ続ける。\n",
    "            while True:\n",
    "                in_edges  = [current_edges[i][0] for i in range(len(current_edges)) if current_edges[i][1] == edge]\n",
    "                out_edges = [current_edges[i][1] for i in range(len(current_edges)) if current_edges[i][0] == edge]\n",
    "                N_in  = len(in_edges)  # 入次数の数\n",
    "                N_out = len(out_edges) # 出自数の数\n",
    "                # 端っこにたどり着いた場合\n",
    "                if N_in + N_out == 1:\n",
    "                    mate[frontier[f]] = edge\n",
    "                    break\n",
    "                # 端ではない場合は、端まで探索する。\n",
    "                elif N_in == 2:\n",
    "                    tmp = edge\n",
    "                    edge = [in_edges[i] for i in range(len(in_edges)) if in_edges[i]!=b_edge][0]\n",
    "                    b_edge = tmp\n",
    "                elif N_out == 2:\n",
    "                    tmp = edge\n",
    "                    edge = [out_edges[i] for i in range(len(out_edges)) if out_edges[i]!=b_edge][0]\n",
    "                    b_edge = tmp\n",
    "                elif N_in==1 and N_out==1:\n",
    "                    tmp_edges = in_edges+out_edges\n",
    "                    tmp = edge\n",
    "                    edge = [tmp_edges[i] for i in range(len(tmp_edges)) if tmp_edges[i]!=b_edge][0]\n",
    "                    b_edge = tmp                   \n",
    "    return mate"
   ]
  },
  {
   "cell_type": "code",
   "execution_count": 102,
   "metadata": {},
   "outputs": [
    {
     "data": {
      "text/plain": [
       "{'e0': 0, 'e1': 0, 'e2': 0, 'e3': 0, 'e4': 0, 'e5': 0}"
      ]
     },
     "execution_count": 102,
     "metadata": {},
     "output_type": "execute_result"
    }
   ],
   "source": [
    "mate_dict = dict()\n",
    "for i in range(len(vertex_set)): mate_dict[vertex_set[i]] = 0 \n",
    "mate_dict"
   ]
  },
  {
   "cell_type": "code",
   "execution_count": 103,
   "metadata": {
    "cell_style": "split"
   },
   "outputs": [
    {
     "data": {
      "text/plain": [
       "{'e0': 0, 'e1': 0, 'e2': 'e0', 'e3': 'e4', 'e4': 'e3', 'e5': 0}"
      ]
     },
     "execution_count": 103,
     "metadata": {},
     "output_type": "execute_result"
    }
   ],
   "source": [
    "# 確認\n",
    "frontier = [\"e2\",\"e3\",\"e4\"]\n",
    "current_edges = [(\"e0\",\"e2\"),(\"e1\",\"e3\"),(\"e1\",\"e4\")]\n",
    "update_mate_arr(mate_dict, frontier, current_edges)"
   ]
  },
  {
   "cell_type": "markdown",
   "metadata": {
    "cell_style": "split"
   },
   "source": [
    "<img src=\"../image/graphillion/sample2.png\" width=50%>"
   ]
  },
  {
   "cell_type": "markdown",
   "metadata": {
    "collapsed": true
   },
   "source": [
    "***"
   ]
  },
  {
   "cell_type": "code",
   "execution_count": 242,
   "metadata": {
    "collapsed": true
   },
   "outputs": [],
   "source": [
    "def One_stroke(tuple_list,start=[\"e0\"]):\n",
    "    \"\"\"\n",
    "    関数の概要：一筆書きできるかを判断する。なお、ZDD用のため\n",
    "    　　　　　　適当に入れるとループから出られなくなるため注意\n",
    "    @param tuple_list：始点と終点がタプルになったもののリスト\n",
    "    @param start     ：始点\n",
    "    @return judge：できるならTrue, できないならFalse\n",
    "    \"\"\"\n",
    "    pairs = copy.deepcopy(tuple_list)\n",
    "    count = 0\n",
    "    while start:\n",
    "        start = [pairs[i][1] for i in range(len(pairs)) if pairs[i][0] == start[0]]\n",
    "        count+=1\n",
    "    return count==len(pairs)+1   "
   ]
  },
  {
   "cell_type": "code",
   "execution_count": 245,
   "metadata": {},
   "outputs": [
    {
     "name": "stdout",
     "output_type": "stream",
     "text": [
      "Ok\n"
     ]
    }
   ],
   "source": [
    "# 確認\n",
    "if One_stroke([(\"e0\",\"e1\"),(\"e1\",\"e3\"),(\"e3\",\"e4\")]) and not One_stroke([(\"e0\",\"e1\"),(\"e2\",\"e3\"),(\"e3\",\"e4\")]):\n",
    "    print(\"Ok\")"
   ]
  },
  {
   "cell_type": "markdown",
   "metadata": {},
   "source": [
    "# メインプログラム"
   ]
  },
  {
   "cell_type": "markdown",
   "metadata": {},
   "source": [
    "__【初期条件】__"
   ]
  },
  {
   "cell_type": "code",
   "execution_count": 237,
   "metadata": {
    "cell_style": "split",
    "code_folding": [],
    "collapsed": true
   },
   "outputs": [],
   "source": [
    "# 辺の集合\n",
    "edges = [(\"e0\",\"e1\"),(\"e0\",\"e2\"),(\"e1\",\"e3\"),(\"e1\",\"e4\"),(\"e2\",\"e5\"),(\"e3\",\"e5\"),(\"e4\",\"e5\")]\n",
    "# 頂点の集合\n",
    "vertex_set = [\"e0\",\"e1\",\"e2\",\"e3\",\"e4\",\"e5\"]\n",
    "# mate配列\n",
    "mate_dict = dict()\n",
    "for i in range(len(vertex_set)): mate_dict[vertex_set[i]] = 0 \n",
    "mate_dict[\"e0\"] = \"e0\""
   ]
  },
  {
   "cell_type": "markdown",
   "metadata": {
    "cell_style": "split"
   },
   "source": [
    "<img src=\"../image/graphillion/sample.png\" width=60%>"
   ]
  },
  {
   "cell_type": "code",
   "execution_count": 238,
   "metadata": {
    "collapsed": true
   },
   "outputs": [],
   "source": [
    "# 入次数を辞書で記録\n",
    "counter = collections.Counter([edge[0] for edge in edges])"
   ]
  },
  {
   "cell_type": "code",
   "execution_count": 239,
   "metadata": {
    "collapsed": true
   },
   "outputs": [],
   "source": [
    "mate_dict = dict()\n",
    "for i in range(len(vertex_set)): mate_dict[vertex_set[i]] = 0\n",
    "mate_dict[\"e0\"] = \"e0\" # 初期値をどうするかは悩み中"
   ]
  },
  {
   "cell_type": "code",
   "execution_count": 240,
   "metadata": {
    "collapsed": true
   },
   "outputs": [],
   "source": [
    "# フロンティアの初期条件\n",
    "frontier = [\"e0\"]"
   ]
  },
  {
   "cell_type": "markdown",
   "metadata": {},
   "source": [
    "__`[(獲得したedge), 個数, mate配列]`を並べていく。__"
   ]
  },
  {
   "cell_type": "code",
   "execution_count": 241,
   "metadata": {
    "scrolled": false
   },
   "outputs": [
    {
     "name": "stdout",
     "output_type": "stream",
     "text": [
      "目的地への行き方は全部で3通りです。\n"
     ]
    }
   ],
   "source": [
    "edges_set = [[[],1,mate_dict]] # 初期化\n",
    "for i in range(len(edges)):\n",
    "    # 新しいノードを獲得する処理\n",
    "    frontier = update_frontier(frontier, edges[i], edges, counter) # フロンティアを更新する。\n",
    "    edges_set_get = copy.deepcopy(edges_set) # 新規のエッジを獲得する方\n",
    "    edges_set_not = copy.deepcopy(edges_set) # 新規のエッジを獲得しない方\n",
    "    for j in range(len(edges_set_get)): \n",
    "        edges_set_get[j][0].append(edges[i])\n",
    "    edges_set = edges_set_get+edges_set_not\n",
    "    \n",
    "    # mate配列を更新する\n",
    "    for j in range(len(edges_set)):\n",
    "        edges_set[j] = [edges_set[j][0],\n",
    "                        edges_set[j][1],\n",
    "                        update_mate_arr(edges_set[j][2],frontier,edges_set[j][0])]\n",
    "\n",
    "    # [mate配列]をkey,[edgeの数,個数,edge]をvalueにする。\n",
    "    result_dict = dict()\n",
    "    for j in range(len(edges_set)):\n",
    "        # フロンティア部分のmate配列。タプルにすることで辞書のキーにできる。\n",
    "        mate_tuple = (edges_set[j][2][frontier[f]] for f in range(len(frontier))) # 識別子(フロンティアだけ)\n",
    "        mate_list  =  edges_set[j][2] # mate配列\n",
    "        N_edges = len(edges_set[j][0]) # 獲得したエッジの数\n",
    "        get_edges = edges_set[j][0]    # 獲得したエッジの数\n",
    "        num = edges_set[j][1]          # これより前で圧縮された同じものの数\n",
    "        if \"e0\" in mate_tuple:          # e0がないものはゴールできないので、ここで削除する。\n",
    "            # mate配列の同じものがあれば、エッジ数の少ないものを残して圧縮。\n",
    "            if mate_tuple in result_dict:\n",
    "                result_dict[mate_list][1] += num # 同じものはまとめる。\n",
    "                # エッジ数が少なくなるのであれば、更新する。\n",
    "                if result_dict[mate_tuple][0] > N_edges:\n",
    "                    result_dict[mate_tuple][0] = N_edges\n",
    "                    result_dict[mate_tuple][2] = get_edges\n",
    "                    result_dict[mate_tuple][3] = mate_list\n",
    "            else:\n",
    "                result_dict[mate_tuple] = [N_edges, num, get_edges, mate_list]\n",
    "    edges_set = []\n",
    "    for key, value in result_dict.items():\n",
    "        edges_set.append([value[2],value[1],value[3]])\n",
    "        \n",
    "answer = 0\n",
    "for i in range(len(edges_set)):\n",
    "    counter = []\n",
    "    for j in range(len(edges_set[i][0])):\n",
    "        counter += list(edges_set[i][0][j])\n",
    "    # 同じ文字が３回以上出ていないかのチェック\n",
    "    if max(collections.Counter(e for e in counter).values())<=2: \n",
    "        if One_stroke(edges_set[i][0]): # 一筆書きできないものを削除\n",
    "            answer += edges_set[i][1]\n",
    "\n",
    "print(\"目的地への行き方は全部で{}通りです。\".format(answer))"
   ]
  },
  {
   "cell_type": "markdown",
   "metadata": {},
   "source": [
    "### 他の例"
   ]
  },
  {
   "cell_type": "markdown",
   "metadata": {},
   "source": [
    "__【初期条件】__"
   ]
  },
  {
   "cell_type": "code",
   "execution_count": 246,
   "metadata": {
    "cell_style": "split",
    "code_folding": [],
    "collapsed": true
   },
   "outputs": [],
   "source": [
    "# 辺の集合\n",
    "edges = [(\"e0\",\"e1\"),(\"e0\",\"e3\"),(\"e1\",\"e2\"),(\"e1\",\"e4\"),(\"e2\",\"e5\"),(\"e3\",\"e4\"),(\"e3\",\"e6\"),(\"e4\",\"e5\"),(\"e4\",\"e7\"),(\"e5\",\"e8\"),(\"e6\",\"e8\"),(\"e7\",\"e8\")]\n",
    "# 頂点の集合\n",
    "vertex_set = [\"e0\",\"e1\",\"e2\",\"e3\",\"e4\",\"e5\",\"e6\",\"e7\",\"e8\"]\n",
    "# mate配列\n",
    "mate_dict = dict()\n",
    "for i in range(len(vertex_set)): mate_dict[vertex_set[i]] = 0 \n",
    "mate_dict[\"e0\"] = \"e0\""
   ]
  },
  {
   "cell_type": "markdown",
   "metadata": {
    "cell_style": "split"
   },
   "source": [
    "<img src=\"../image/graphillion/sample3.png\" width=50%>"
   ]
  },
  {
   "cell_type": "code",
   "execution_count": 247,
   "metadata": {
    "collapsed": true
   },
   "outputs": [],
   "source": [
    "# 入次数を辞書で記録\n",
    "counter = collections.Counter([edge[0] for edge in edges])"
   ]
  },
  {
   "cell_type": "code",
   "execution_count": 248,
   "metadata": {
    "collapsed": true
   },
   "outputs": [],
   "source": [
    "mate_dict = dict()\n",
    "for i in range(len(vertex_set)): mate_dict[vertex_set[i]] = 0\n",
    "mate_dict[\"e0\"] = \"e0\" # 初期値をどうするかは悩み中"
   ]
  },
  {
   "cell_type": "code",
   "execution_count": 249,
   "metadata": {
    "collapsed": true
   },
   "outputs": [],
   "source": [
    "# フロンティアの初期条件\n",
    "frontier = [\"e0\"]"
   ]
  },
  {
   "cell_type": "code",
   "execution_count": 250,
   "metadata": {},
   "outputs": [
    {
     "ename": "KeyboardInterrupt",
     "evalue": "",
     "output_type": "error",
     "traceback": [
      "\u001b[0;31m---------------------------------------------------------------------------\u001b[0m",
      "\u001b[0;31mKeyboardInterrupt\u001b[0m                         Traceback (most recent call last)",
      "\u001b[0;32m<ipython-input-250-43a8f7ef2385>\u001b[0m in \u001b[0;36m<module>\u001b[0;34m()\u001b[0m\n\u001b[1;32m     13\u001b[0m         edges_set[j] = [edges_set[j][0],\n\u001b[1;32m     14\u001b[0m                         \u001b[0medges_set\u001b[0m\u001b[0;34m[\u001b[0m\u001b[0mj\u001b[0m\u001b[0;34m]\u001b[0m\u001b[0;34m[\u001b[0m\u001b[0;36m1\u001b[0m\u001b[0;34m]\u001b[0m\u001b[0;34m,\u001b[0m\u001b[0;34m\u001b[0m\u001b[0m\n\u001b[0;32m---> 15\u001b[0;31m                         update_mate_arr(edges_set[j][2],frontier,edges_set[j][0])]\n\u001b[0m\u001b[1;32m     16\u001b[0m \u001b[0;34m\u001b[0m\u001b[0m\n\u001b[1;32m     17\u001b[0m     \u001b[0;31m# [mate配列]をkey,[edgeの数,個数,edge]をvalueにする。\u001b[0m\u001b[0;34m\u001b[0m\u001b[0;34m\u001b[0m\u001b[0m\n",
      "\u001b[0;32m<ipython-input-101-5257fa437a1a>\u001b[0m in \u001b[0;36mupdate_mate_arr\u001b[0;34m(mate, frontier, current_edges)\u001b[0m\n\u001b[1;32m     24\u001b[0m             \u001b[0;32mwhile\u001b[0m \u001b[0;32mTrue\u001b[0m\u001b[0;34m:\u001b[0m\u001b[0;34m\u001b[0m\u001b[0m\n\u001b[1;32m     25\u001b[0m                 \u001b[0min_edges\u001b[0m  \u001b[0;34m=\u001b[0m \u001b[0;34m[\u001b[0m\u001b[0mcurrent_edges\u001b[0m\u001b[0;34m[\u001b[0m\u001b[0mi\u001b[0m\u001b[0;34m]\u001b[0m\u001b[0;34m[\u001b[0m\u001b[0;36m0\u001b[0m\u001b[0;34m]\u001b[0m \u001b[0;32mfor\u001b[0m \u001b[0mi\u001b[0m \u001b[0;32min\u001b[0m \u001b[0mrange\u001b[0m\u001b[0;34m(\u001b[0m\u001b[0mlen\u001b[0m\u001b[0;34m(\u001b[0m\u001b[0mcurrent_edges\u001b[0m\u001b[0;34m)\u001b[0m\u001b[0;34m)\u001b[0m \u001b[0;32mif\u001b[0m \u001b[0mcurrent_edges\u001b[0m\u001b[0;34m[\u001b[0m\u001b[0mi\u001b[0m\u001b[0;34m]\u001b[0m\u001b[0;34m[\u001b[0m\u001b[0;36m1\u001b[0m\u001b[0;34m]\u001b[0m \u001b[0;34m==\u001b[0m \u001b[0medge\u001b[0m\u001b[0;34m]\u001b[0m\u001b[0;34m\u001b[0m\u001b[0m\n\u001b[0;32m---> 26\u001b[0;31m                 \u001b[0mout_edges\u001b[0m \u001b[0;34m=\u001b[0m \u001b[0;34m[\u001b[0m\u001b[0mcurrent_edges\u001b[0m\u001b[0;34m[\u001b[0m\u001b[0mi\u001b[0m\u001b[0;34m]\u001b[0m\u001b[0;34m[\u001b[0m\u001b[0;36m1\u001b[0m\u001b[0;34m]\u001b[0m \u001b[0;32mfor\u001b[0m \u001b[0mi\u001b[0m \u001b[0;32min\u001b[0m \u001b[0mrange\u001b[0m\u001b[0;34m(\u001b[0m\u001b[0mlen\u001b[0m\u001b[0;34m(\u001b[0m\u001b[0mcurrent_edges\u001b[0m\u001b[0;34m)\u001b[0m\u001b[0;34m)\u001b[0m \u001b[0;32mif\u001b[0m \u001b[0mcurrent_edges\u001b[0m\u001b[0;34m[\u001b[0m\u001b[0mi\u001b[0m\u001b[0;34m]\u001b[0m\u001b[0;34m[\u001b[0m\u001b[0;36m0\u001b[0m\u001b[0;34m]\u001b[0m \u001b[0;34m==\u001b[0m \u001b[0medge\u001b[0m\u001b[0;34m]\u001b[0m\u001b[0;34m\u001b[0m\u001b[0m\n\u001b[0m\u001b[1;32m     27\u001b[0m                 \u001b[0mN_in\u001b[0m  \u001b[0;34m=\u001b[0m \u001b[0mlen\u001b[0m\u001b[0;34m(\u001b[0m\u001b[0min_edges\u001b[0m\u001b[0;34m)\u001b[0m  \u001b[0;31m# 入次数の数\u001b[0m\u001b[0;34m\u001b[0m\u001b[0m\n\u001b[1;32m     28\u001b[0m                 \u001b[0mN_out\u001b[0m \u001b[0;34m=\u001b[0m \u001b[0mlen\u001b[0m\u001b[0;34m(\u001b[0m\u001b[0mout_edges\u001b[0m\u001b[0;34m)\u001b[0m \u001b[0;31m# 出自数の数\u001b[0m\u001b[0;34m\u001b[0m\u001b[0m\n",
      "\u001b[0;32m<ipython-input-101-5257fa437a1a>\u001b[0m in \u001b[0;36m<listcomp>\u001b[0;34m(.0)\u001b[0m\n\u001b[1;32m     24\u001b[0m             \u001b[0;32mwhile\u001b[0m \u001b[0;32mTrue\u001b[0m\u001b[0;34m:\u001b[0m\u001b[0;34m\u001b[0m\u001b[0m\n\u001b[1;32m     25\u001b[0m                 \u001b[0min_edges\u001b[0m  \u001b[0;34m=\u001b[0m \u001b[0;34m[\u001b[0m\u001b[0mcurrent_edges\u001b[0m\u001b[0;34m[\u001b[0m\u001b[0mi\u001b[0m\u001b[0;34m]\u001b[0m\u001b[0;34m[\u001b[0m\u001b[0;36m0\u001b[0m\u001b[0;34m]\u001b[0m \u001b[0;32mfor\u001b[0m \u001b[0mi\u001b[0m \u001b[0;32min\u001b[0m \u001b[0mrange\u001b[0m\u001b[0;34m(\u001b[0m\u001b[0mlen\u001b[0m\u001b[0;34m(\u001b[0m\u001b[0mcurrent_edges\u001b[0m\u001b[0;34m)\u001b[0m\u001b[0;34m)\u001b[0m \u001b[0;32mif\u001b[0m \u001b[0mcurrent_edges\u001b[0m\u001b[0;34m[\u001b[0m\u001b[0mi\u001b[0m\u001b[0;34m]\u001b[0m\u001b[0;34m[\u001b[0m\u001b[0;36m1\u001b[0m\u001b[0;34m]\u001b[0m \u001b[0;34m==\u001b[0m \u001b[0medge\u001b[0m\u001b[0;34m]\u001b[0m\u001b[0;34m\u001b[0m\u001b[0m\n\u001b[0;32m---> 26\u001b[0;31m                 \u001b[0mout_edges\u001b[0m \u001b[0;34m=\u001b[0m \u001b[0;34m[\u001b[0m\u001b[0mcurrent_edges\u001b[0m\u001b[0;34m[\u001b[0m\u001b[0mi\u001b[0m\u001b[0;34m]\u001b[0m\u001b[0;34m[\u001b[0m\u001b[0;36m1\u001b[0m\u001b[0;34m]\u001b[0m \u001b[0;32mfor\u001b[0m \u001b[0mi\u001b[0m \u001b[0;32min\u001b[0m \u001b[0mrange\u001b[0m\u001b[0;34m(\u001b[0m\u001b[0mlen\u001b[0m\u001b[0;34m(\u001b[0m\u001b[0mcurrent_edges\u001b[0m\u001b[0;34m)\u001b[0m\u001b[0;34m)\u001b[0m \u001b[0;32mif\u001b[0m \u001b[0mcurrent_edges\u001b[0m\u001b[0;34m[\u001b[0m\u001b[0mi\u001b[0m\u001b[0;34m]\u001b[0m\u001b[0;34m[\u001b[0m\u001b[0;36m0\u001b[0m\u001b[0;34m]\u001b[0m \u001b[0;34m==\u001b[0m \u001b[0medge\u001b[0m\u001b[0;34m]\u001b[0m\u001b[0;34m\u001b[0m\u001b[0m\n\u001b[0m\u001b[1;32m     27\u001b[0m                 \u001b[0mN_in\u001b[0m  \u001b[0;34m=\u001b[0m \u001b[0mlen\u001b[0m\u001b[0;34m(\u001b[0m\u001b[0min_edges\u001b[0m\u001b[0;34m)\u001b[0m  \u001b[0;31m# 入次数の数\u001b[0m\u001b[0;34m\u001b[0m\u001b[0m\n\u001b[1;32m     28\u001b[0m                 \u001b[0mN_out\u001b[0m \u001b[0;34m=\u001b[0m \u001b[0mlen\u001b[0m\u001b[0;34m(\u001b[0m\u001b[0mout_edges\u001b[0m\u001b[0;34m)\u001b[0m \u001b[0;31m# 出自数の数\u001b[0m\u001b[0;34m\u001b[0m\u001b[0m\n",
      "\u001b[0;31mKeyboardInterrupt\u001b[0m: "
     ]
    }
   ],
   "source": [
    "edges_set = [[[],1,mate_dict]] # 初期化\n",
    "for i in range(len(edges)):\n",
    "    # 新しいノードを獲得する処理\n",
    "    frontier = update_frontier(frontier, edges[i], edges, counter) # フロンティアを更新する。\n",
    "    edges_set_get = copy.deepcopy(edges_set) # 新規のエッジを獲得する方\n",
    "    edges_set_not = copy.deepcopy(edges_set) # 新規のエッジを獲得しない方\n",
    "    for j in range(len(edges_set_get)): \n",
    "        edges_set_get[j][0].append(edges[i])\n",
    "    edges_set = edges_set_get+edges_set_not\n",
    "    \n",
    "    # mate配列を更新する\n",
    "    for j in range(len(edges_set)):\n",
    "        edges_set[j] = [edges_set[j][0],\n",
    "                        edges_set[j][1],\n",
    "                        update_mate_arr(edges_set[j][2],frontier,edges_set[j][0])]\n",
    "\n",
    "    # [mate配列]をkey,[edgeの数,個数,edge]をvalueにする。\n",
    "    result_dict = dict()\n",
    "    for j in range(len(edges_set)):\n",
    "        # フロンティア部分のmate配列。タプルにすることで辞書のキーにできる。\n",
    "        mate_tuple = (edges_set[j][2][frontier[f]] for f in range(len(frontier))) # 識別子(フロンティアだけ)\n",
    "        mate_list  =  edges_set[j][2] # mate配列\n",
    "        N_edges = len(edges_set[j][0]) # 獲得したエッジの数\n",
    "        get_edges = edges_set[j][0]    # 獲得したエッジの数\n",
    "        num = edges_set[j][1]          # これより前で圧縮された同じものの数\n",
    "        if \"e0\" in mate_tuple:          # e0がないものはゴールできないので、ここで削除する。\n",
    "            # mate配列の同じものがあれば、エッジ数の少ないものを残して圧縮。\n",
    "            if mate_tuple in result_dict:\n",
    "                result_dict[mate_list][1] += num # 同じものはまとめる。\n",
    "                # エッジ数が少なくなるのであれば、更新する。\n",
    "                if result_dict[mate_tuple][0] > N_edges:\n",
    "                    result_dict[mate_tuple][0] = N_edges\n",
    "                    result_dict[mate_tuple][2] = get_edges\n",
    "                    result_dict[mate_tuple][3] = mate_list\n",
    "            else:\n",
    "                result_dict[mate_tuple] = [N_edges, num, get_edges, mate_list]\n",
    "    edges_set = []\n",
    "    for key, value in result_dict.items():\n",
    "        edges_set.append([value[2],value[1],value[3]])\n",
    "        \n",
    "answer = 0\n",
    "for i in range(len(edges_set)):\n",
    "    counter = []\n",
    "    for j in range(len(edges_set[i][0])):\n",
    "        counter += list(edges_set[i][0][j])\n",
    "    # 同じ文字が３回以上出ていないかのチェック\n",
    "    if max(collections.Counter(e for e in counter).values())<=2: \n",
    "        if One_stroke(edges_set[i][0]): # 一筆書きできないものを削除\n",
    "            answer += edges_set[i][1]\n",
    "\n",
    "print(\"目的地への行き方は全部で{}通りです。\".format(answer))"
   ]
  },
  {
   "cell_type": "code",
   "execution_count": null,
   "metadata": {
    "collapsed": true
   },
   "outputs": [],
   "source": []
  }
 ],
 "metadata": {
  "hide_input": false,
  "kernelspec": {
   "display_name": "Python 3",
   "language": "python",
   "name": "python3"
  },
  "language_info": {
   "codemirror_mode": {
    "name": "ipython",
    "version": 3
   },
   "file_extension": ".py",
   "mimetype": "text/x-python",
   "name": "python",
   "nbconvert_exporter": "python",
   "pygments_lexer": "ipython3",
   "version": "3.6.3"
  }
 },
 "nbformat": 4,
 "nbformat_minor": 2
}
