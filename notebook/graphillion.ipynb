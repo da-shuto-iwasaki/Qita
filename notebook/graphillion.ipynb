{
 "cells": [
  {
   "cell_type": "markdown",
   "metadata": {},
   "source": [
    "# ZDDのグラフアルゴリズム"
   ]
  },
  {
   "cell_type": "markdown",
   "metadata": {},
   "source": [
    "## サンプル\n",
    "　__今回考えるのは、以下の図。幅優先探索で、各頂点に名前をつける__"
   ]
  },
  {
   "cell_type": "markdown",
   "metadata": {},
   "source": [
    "<img src=\"../image/graphillion/sample.png\" width=40%>"
   ]
  },
  {
   "cell_type": "code",
   "execution_count": 59,
   "metadata": {
    "collapsed": true
   },
   "outputs": [],
   "source": [
    "# 必要なモジュールのインポート\n",
    "import collections\n",
    "import copy"
   ]
  },
  {
   "cell_type": "markdown",
   "metadata": {},
   "source": [
    "__◯初期条件__"
   ]
  },
  {
   "cell_type": "code",
   "execution_count": 11,
   "metadata": {
    "code_folding": [],
    "collapsed": true
   },
   "outputs": [],
   "source": [
    "# 辺の集合\n",
    "edges = [(\"e0\",\"e1\"),(\"e0\",\"e2\"),(\"e1\",\"e3\"),(\"e1\",\"e4\"),(\"e2\",\"e5\"),(\"e3\",\"e5\"),(\"e4\",\"e5\")]\n",
    "# 頂点の集合\n",
    "vertex_set = [\"e0\",\"e1\",\"e2\",\"e3\",\"e4\",\"e5\"]\n",
    "# mate配列\n",
    "mate_dict = dict()\n",
    "for i in range(len(vertex_set)): mate_dict[vertex_set[i]] = 0 \n",
    "mate_dict[\"e0\"] = \"e0\""
   ]
  },
  {
   "cell_type": "code",
   "execution_count": 5,
   "metadata": {
    "collapsed": true
   },
   "outputs": [],
   "source": [
    "# 入次数を辞書で記録\n",
    "counter = collections.Counter([edge[0] for edge in edges])"
   ]
  },
  {
   "cell_type": "markdown",
   "metadata": {},
   "source": [
    "```\n",
    "# 始点(\"e1\")で条件をしぼって終点を抽出する\n",
    "[edges[i][1] for i in range(len(edges)) if edges[i][0] == \"e1\"]\n",
    "# 終点(\"e1\")で条件をしぼって始点を抽出する\n",
    "[edges[i][0] for i in range(len(edges)) if edges[i][1] == \"e1\"]\n",
    "```"
   ]
  },
  {
   "cell_type": "markdown",
   "metadata": {},
   "source": [
    "## アルゴリズム"
   ]
  },
  {
   "cell_type": "code",
   "execution_count": 8,
   "metadata": {
    "collapsed": true
   },
   "outputs": [],
   "source": [
    "def update_frontier(frontier,edge,edges,counter):\n",
    "    \"\"\"\n",
    "    関数の概要：以前までのフロンティアと獲得エッジからフロンティアを更新する。フロンティアは全ての場合で等しいので、一括計算。\n",
    "    　　　　　　一般に、１つの頂点で、「入次数の数ー１」だけフロンティアは増える。\n",
    "    @param frontier ：以前までのフロンティア\n",
    "    @param edge     ：新規獲得エッジ\n",
    "    @param edges    ：エッジ集合\n",
    "    @param counter  ：エッジの入次数を記録している辞書\n",
    "    @return frontier：更新後のフロンティア\n",
    "    \"\"\"\n",
    "    # 入次数が２で、新しい辺の終点の頂点番号が小さかったら追加するだけ。\n",
    "    if counter[edge[0]] == 2 and edge[1] == [edges[i][1] for i in range(len(edges)) if edges[i][0] == edge[0]][0]:\n",
    "        frontier.append(edge[1])\n",
    "    # 入次数が２で、新しい辺の終点の頂点番号が大きかったら始点を削除して終点を追加する。\n",
    "    elif counter[edge[0]] == 2 and edge[1] == [edges[i][1] for i in range(len(edges)) if edges[i][0] == edge[0]][1]:\n",
    "        frontier.remove(edge[0])\n",
    "        frontier.append(edge[1])\n",
    "    # 入次数が１の場合は、始点を削除して終点を追加する。\n",
    "    elif counter[edge[0]] == 1:\n",
    "        frontier.remove(edge[0])\n",
    "        frontier.append(edge[1])\n",
    "    else:\n",
    "        print(\"予想外のedge: {}です!!\".format(edge))\n",
    "    \n",
    "    # 重複を削除する。\n",
    "    new_frontier = list(set(frontier))\n",
    "    return new_frontier"
   ]
  },
  {
   "cell_type": "code",
   "execution_count": 9,
   "metadata": {
    "cell_style": "split"
   },
   "outputs": [
    {
     "name": "stdout",
     "output_type": "stream",
     "text": [
      "['e0']\n",
      "['e1', 'e0']\n",
      "['e1', 'e2']\n",
      "['e1', 'e2', 'e3']\n",
      "['e2', 'e4', 'e3']\n",
      "['e3', 'e5', 'e4']\n",
      "['e5', 'e4']\n",
      "['e5']\n"
     ]
    }
   ],
   "source": [
    "# 確認\n",
    "frontier = [\"e0\"]\n",
    "print(frontier)\n",
    "for i in range(len(edges)):\n",
    "    frontier = update_frontier(frontier, edges[i], edges, counter)\n",
    "    print(frontier)"
   ]
  },
  {
   "cell_type": "markdown",
   "metadata": {
    "cell_style": "split"
   },
   "source": [
    "<img src=\"../image/graphillion/sample.png\" width=60%>"
   ]
  },
  {
   "cell_type": "markdown",
   "metadata": {},
   "source": [
    "***"
   ]
  },
  {
   "cell_type": "code",
   "execution_count": 12,
   "metadata": {
    "collapsed": true
   },
   "outputs": [],
   "source": [
    "def update_mate_arr(mate, frontier, current_edges):\n",
    "    \"\"\"\n",
    "    関数の概要：mate配列を更新する。\n",
    "    @patam mate         ：以前までのmate配列（dict）\n",
    "    @param frontier     ：更新後のフロンティア\n",
    "    @param current_edges：獲得したエッジ集合\n",
    "    @return new_mate    ：更新後のmate配列（dict）  \n",
    "    \"\"\"\n",
    "    for f in range(len(frontier)):\n",
    "        # 獲得したエッジ集合から、フロンティアの入次数を求める。\n",
    "        in_edges = [current_edges[i][0] for i in range(len(current_edges)) if current_edges[i][1] == frontier[f]]\n",
    "        N_in = len(in_edges)\n",
    "        # 入次数が０だったら、頂点の名前になる。\n",
    "        if N_in == 0:\n",
    "            mate[frontier[f]] = frontier[f]\n",
    "        # 入次数が２つだったら、０にする。\n",
    "        elif N_in == 2:\n",
    "            mate[frontier[f]] = 0\n",
    "        # 入次数が１つだったら、逆端まで探索する。\n",
    "        elif N_in == 1:\n",
    "            edge = in_edges[0]\n",
    "            b_edge = frontier[f] # １つ前のedgeを記録\n",
    "            # 戻った先で入次数と出次数を調べ続ける。\n",
    "            while True:\n",
    "                in_edges  = [current_edges[i][0] for i in range(len(current_edges)) if current_edges[i][1] == edge]\n",
    "                out_edges = [current_edges[i][1] for i in range(len(current_edges)) if current_edges[i][0] == edge]\n",
    "                N_in  = len(in_edges)  # 入次数の数\n",
    "                N_out = len(out_edges) # 出自数の数\n",
    "                # 端っこにたどり着いた場合\n",
    "                if N_in + N_out == 1:\n",
    "                    mate[frontier[f]] = edge\n",
    "                    break\n",
    "                # 端ではない場合\n",
    "                elif N_in == 2:\n",
    "                    tmp = edge\n",
    "                    edge = [in_edges[i] for i in range(len(in_edges)) if in_edges[i]!=b_edge][0]\n",
    "                    b_edge = tmp\n",
    "                elif N_out == 2:\n",
    "                    tmp = edge\n",
    "                    edge = [out_edges[i] for i in range(len(out_edges)) if out_edges[i]!=b_edge][0]\n",
    "                    b_edge = tmp\n",
    "    return mate"
   ]
  },
  {
   "cell_type": "code",
   "execution_count": 14,
   "metadata": {},
   "outputs": [
    {
     "data": {
      "text/plain": [
       "{'e0': 0, 'e1': 0, 'e2': 0, 'e3': 0, 'e4': 0, 'e5': 0}"
      ]
     },
     "execution_count": 14,
     "metadata": {},
     "output_type": "execute_result"
    }
   ],
   "source": [
    "mate_dict = dict()\n",
    "for i in range(len(vertex_set)): mate_dict[vertex_set[i]] = 0 \n",
    "mate_dict"
   ]
  },
  {
   "cell_type": "code",
   "execution_count": 16,
   "metadata": {
    "cell_style": "split"
   },
   "outputs": [
    {
     "data": {
      "text/plain": [
       "{'e0': 0, 'e1': 0, 'e2': 'e0', 'e3': 'e4', 'e4': 'e3', 'e5': 0}"
      ]
     },
     "execution_count": 16,
     "metadata": {},
     "output_type": "execute_result"
    }
   ],
   "source": [
    "# 確認\n",
    "frontier = [\"e2\",\"e3\",\"e4\"]\n",
    "current_edges = [(\"e0\",\"e2\"),(\"e1\",\"e3\"),(\"e1\",\"e4\")]\n",
    "update_mate_arr(mate_dict, frontier, current_edges)"
   ]
  },
  {
   "cell_type": "markdown",
   "metadata": {
    "cell_style": "split"
   },
   "source": [
    "<img src=\"../image/graphillion/sample2.png\" width=50%>"
   ]
  },
  {
   "cell_type": "markdown",
   "metadata": {
    "collapsed": true
   },
   "source": [
    "***"
   ]
  },
  {
   "cell_type": "markdown",
   "metadata": {},
   "source": [
    "__`[(獲得したedge), 個数, mate配列]`を並べていく。__"
   ]
  },
  {
   "cell_type": "code",
   "execution_count": 89,
   "metadata": {
    "collapsed": true
   },
   "outputs": [],
   "source": [
    "mate_dict = dict()\n",
    "for i in range(len(vertex_set)): mate_dict[vertex_set[i]] = 0 \n",
    "mate_dict[\"e0\"] = \"e0\""
   ]
  },
  {
   "cell_type": "code",
   "execution_count": 124,
   "metadata": {
    "collapsed": true
   },
   "outputs": [],
   "source": [
    "frontier = [\"e0\"]"
   ]
  },
  {
   "cell_type": "code",
   "execution_count": null,
   "metadata": {
    "collapsed": true
   },
   "outputs": [],
   "source": [
    "edges_set = [[[],1,mate_dict]] # 初期化\n",
    "for i in range(len(edges)):\n",
    "    # 新しいノードを獲得する処理\n",
    "    frontier = update_frontier(frontier, edges[i], edges, counter) # フロンティアを更新する。\n",
    "    edges_set_get = copy.deepcopy(edges_set) # 新規のエッジを獲得する方\n",
    "    edges_set_not = copy.deepcopy(edges_set) # 新規のエッジを獲得しない方\n",
    "    for j in range(len(edges_set_get)): \n",
    "        edges_set_get[j][0].append(edges[i])\n",
    "    edges_set = edges_set_get+edges_set_not\n",
    "    \n",
    "    # mate配列を更新する\n",
    "    for k in range(len(edges_set)):\n",
    "        edges_set[k] = [edges_set[k][0],\n",
    "                        edges_set[k][1],\n",
    "                        update_mate_arr(edges_set[k][2],frontier,edges_set[k][0])]\n",
    "    \"\"\"\n",
    "    ZDDのポイントである圧縮を行う。mate配列のうち、frontier だけ残す。\n",
    "    なお、同じものであれば、ノードの少ないものを残す。\n",
    "    これにより、エラー（出次数:２,入次数:1など）が回避できる。\n",
    "    \"\"\"\n",
    "    for k in range(len(edges_set)):\n",
    "        "
   ]
  },
  {
   "cell_type": "code",
   "execution_count": null,
   "metadata": {
    "collapsed": true
   },
   "outputs": [],
   "source": []
  },
  {
   "cell_type": "code",
   "execution_count": null,
   "metadata": {
    "collapsed": true
   },
   "outputs": [],
   "source": []
  },
  {
   "cell_type": "code",
   "execution_count": 97,
   "metadata": {},
   "outputs": [
    {
     "name": "stdout",
     "output_type": "stream",
     "text": [
      "[1, 3, 5, 7, 9]\n"
     ]
    }
   ],
   "source": [
    "a = [-1, 3, -5, 7, -9]\n",
    "\n",
    "print(list(map(abs, a)))\n",
    "# => [1, 3, 5, 7, 9]"
   ]
  },
  {
   "cell_type": "code",
   "execution_count": 100,
   "metadata": {},
   "outputs": [
    {
     "data": {
      "text/plain": [
       "{'e0': 0, 'e1': 0, 'e2': 0, 'e3': 0, 'e4': 0, 'e5': 0}"
      ]
     },
     "execution_count": 100,
     "metadata": {},
     "output_type": "execute_result"
    }
   ],
   "source": [
    "mate_dict = dict()\n",
    "for i in range(len(vertex_set)): mate_dict[vertex_set[i]] = 0 \n",
    "mate_dict"
   ]
  },
  {
   "cell_type": "code",
   "execution_count": 120,
   "metadata": {},
   "outputs": [],
   "source": [
    "edges_set = [[(\"e0\",\"e2\"),(\"e1\",\"e3\"),(\"e1\",\"e4\")],1,mate_dict]\n",
    "edges_set = [edges_set]"
   ]
  },
  {
   "cell_type": "code",
   "execution_count": null,
   "metadata": {
    "collapsed": true
   },
   "outputs": [],
   "source": [
    "ed"
   ]
  },
  {
   "cell_type": "code",
   "execution_count": 111,
   "metadata": {},
   "outputs": [
    {
     "data": {
      "text/plain": [
       "{'e0': 0, 'e1': 0, 'e2': 0, 'e3': 0, 'e4': 0, 'e5': 0}"
      ]
     },
     "execution_count": 111,
     "metadata": {},
     "output_type": "execute_result"
    }
   ],
   "source": [
    "edges_set[2]"
   ]
  },
  {
   "cell_type": "code",
   "execution_count": null,
   "metadata": {
    "collapsed": true
   },
   "outputs": [],
   "source": [
    "frontier = [\"e2\",\"e3\",\"e4\"]\n",
    "update_mate_arr(mate_dict, frontier, current_edges)"
   ]
  },
  {
   "cell_type": "code",
   "execution_count": 121,
   "metadata": {},
   "outputs": [
    {
     "name": "stdout",
     "output_type": "stream",
     "text": [
      "[[('e0', 'e2'), ('e1', 'e3'), ('e1', 'e4')], 1, {'e0': 0, 'e1': 0, 'e2': 0, 'e3': 0, 'e4': 0, 'e5': 0}]\n",
      "[('e0', 'e2'), ('e1', 'e3'), ('e1', 'e4')]\n",
      "1\n",
      "{'e0': 0, 'e1': 0, 'e2': 0, 'e3': 0, 'e4': 0, 'e5': 0}\n"
     ]
    }
   ],
   "source": [
    "for i in range(len(edges_set)):\n",
    "    print(edges_set[i])\n",
    "    print(edges_set[i][0])\n",
    "    print(edges_set[i][1])\n",
    "    print(edges_set[i][2])\n",
    "    edges_set[i] = [edges_set[i][0],edges_set[i][1],update_mate_arr(edges_set[i][2], frontier, edges_set[i][0])]"
   ]
  },
  {
   "cell_type": "code",
   "execution_count": 122,
   "metadata": {},
   "outputs": [
    {
     "data": {
      "text/plain": [
       "[[[('e0', 'e2'), ('e1', 'e3'), ('e1', 'e4')],\n",
       "  1,\n",
       "  {'e0': 0, 'e1': 0, 'e2': 0, 'e3': 0, 'e4': 0, 'e5': 'e5'}]]"
      ]
     },
     "execution_count": 122,
     "metadata": {},
     "output_type": "execute_result"
    }
   ],
   "source": [
    "edges_set"
   ]
  },
  {
   "cell_type": "code",
   "execution_count": 29,
   "metadata": {},
   "outputs": [],
   "source": [
    "edges_set[0][0].append(edges[0])"
   ]
  },
  {
   "cell_type": "code",
   "execution_count": 33,
   "metadata": {},
   "outputs": [
    {
     "data": {
      "text/plain": [
       "[[[('e0', 'e1'), ('e0', 'e1')], 1], [[()], 1]]"
      ]
     },
     "execution_count": 33,
     "metadata": {},
     "output_type": "execute_result"
    }
   ],
   "source": [
    "edges_set"
   ]
  },
  {
   "cell_type": "code",
   "execution_count": 34,
   "metadata": {},
   "outputs": [
    {
     "data": {
      "text/plain": [
       "[[[('e0', 'e1'), ('e0', 'e1')], 1],\n",
       " [[()], 1],\n",
       " [[('e0', 'e1'), ('e0', 'e1')], 1],\n",
       " [[()], 1]]"
      ]
     },
     "execution_count": 34,
     "metadata": {},
     "output_type": "execute_result"
    }
   ],
   "source": [
    "edges_set*2"
   ]
  },
  {
   "cell_type": "code",
   "execution_count": 35,
   "metadata": {},
   "outputs": [
    {
     "data": {
      "text/plain": [
       "[[[('e0', 'e1'), ('e0', 'e1')], 1],\n",
       " [[()], 1],\n",
       " [[('e0', 'e1'), ('e0', 'e1')], 1],\n",
       " [[()], 1]]"
      ]
     },
     "execution_count": 35,
     "metadata": {},
     "output_type": "execute_result"
    }
   ],
   "source": [
    "edges_set + edges_set"
   ]
  },
  {
   "cell_type": "code",
   "execution_count": null,
   "metadata": {
    "collapsed": true
   },
   "outputs": [],
   "source": [
    "edges = [(\"e0\",\"e1\"),(\"e0\",\"e2\"),(\"e1\",\"e3\"),(\"e1\",\"e4\"),(\"e2\",\"e5\"),(\"e3\",\"e5\"),(\"e4\",\"e5\")]\n",
    "current_edges = [\"e0\"]\n",
    "for i in range(len(edges)):\n",
    "    "
   ]
  },
  {
   "cell_type": "code",
   "execution_count": 103,
   "metadata": {},
   "outputs": [
    {
     "data": {
      "text/plain": [
       "['e3', 'e4']"
      ]
     },
     "execution_count": 103,
     "metadata": {},
     "output_type": "execute_result"
    }
   ],
   "source": [
    "a = [edges[i][1] for i in range(len(edges)) if edges[i][0] == \"e1\"]\n",
    "a"
   ]
  },
  {
   "cell_type": "code",
   "execution_count": 105,
   "metadata": {},
   "outputs": [
    {
     "data": {
      "text/plain": [
       "['e4']"
      ]
     },
     "execution_count": 105,
     "metadata": {},
     "output_type": "execute_result"
    }
   ],
   "source": [
    "[a[i] for i in range(len(a)) if a[i]!=\"e3\"]"
   ]
  },
  {
   "cell_type": "code",
   "execution_count": 86,
   "metadata": {},
   "outputs": [
    {
     "data": {
      "text/plain": [
       "[('e0', 'e1'),\n",
       " ('e0', 'e2'),\n",
       " ('e1', 'e3'),\n",
       " ('e1', 'e4'),\n",
       " ('e2', 'e5'),\n",
       " ('e3', 'e5'),\n",
       " ('e4', 'e5')]"
      ]
     },
     "execution_count": 86,
     "metadata": {},
     "output_type": "execute_result"
    }
   ],
   "source": [
    "edges[i][0] for i in range(len(edges)) if edges[i][1] == "
   ]
  },
  {
   "cell_type": "code",
   "execution_count": 82,
   "metadata": {},
   "outputs": [
    {
     "data": {
      "text/plain": [
       "['e5']"
      ]
     },
     "execution_count": 82,
     "metadata": {},
     "output_type": "execute_result"
    }
   ],
   "source": [
    "frontier"
   ]
  },
  {
   "cell_type": "code",
   "execution_count": 79,
   "metadata": {},
   "outputs": [
    {
     "data": {
      "text/plain": [
       "[('e0', 'e1'),\n",
       " ('e0', 'e2'),\n",
       " ('e1', 'e3'),\n",
       " ('e1', 'e4'),\n",
       " ('e2', 'e5'),\n",
       " ('e3', 'e5'),\n",
       " ('e4', 'e5')]"
      ]
     },
     "execution_count": 79,
     "metadata": {},
     "output_type": "execute_result"
    }
   ],
   "source": [
    "edges[]"
   ]
  },
  {
   "cell_type": "code",
   "execution_count": 108,
   "metadata": {},
   "outputs": [
    {
     "data": {
      "text/plain": [
       "{'e0': 0, 'e1': 0, 'e2': 0, 'e3': 0, 'e4': 0, 'e5': 0}"
      ]
     },
     "execution_count": 108,
     "metadata": {},
     "output_type": "execute_result"
    }
   ],
   "source": [
    "mate_dict = dict()\n",
    "for i in range(len(vertex_set)): mate_dict[vertex_set[i]] = 0 \n",
    "mate_dict"
   ]
  },
  {
   "cell_type": "code",
   "execution_count": 75,
   "metadata": {},
   "outputs": [
    {
     "data": {
      "text/plain": [
       "{'e0': 0, 'e1': 0, 'e2': 0, 'e3': 0, 'e4': 0, 'e5': 0}"
      ]
     },
     "execution_count": 75,
     "metadata": {},
     "output_type": "execute_result"
    }
   ],
   "source": [
    "mate_dict"
   ]
  },
  {
   "cell_type": "code",
   "execution_count": null,
   "metadata": {
    "collapsed": true
   },
   "outputs": [],
   "source": []
  },
  {
   "cell_type": "code",
   "execution_count": 16,
   "metadata": {
    "collapsed": true
   },
   "outputs": [],
   "source": [
    "a = [0, 1, 2, 3]"
   ]
  },
  {
   "cell_type": "code",
   "execution_count": 21,
   "metadata": {
    "collapsed": true
   },
   "outputs": [],
   "source": [
    "a.append(0)"
   ]
  },
  {
   "cell_type": "code",
   "execution_count": 22,
   "metadata": {},
   "outputs": [
    {
     "data": {
      "text/plain": [
       "[1, 2, 3, 0]"
      ]
     },
     "execution_count": 22,
     "metadata": {},
     "output_type": "execute_result"
    }
   ],
   "source": [
    "a"
   ]
  },
  {
   "cell_type": "code",
   "execution_count": 26,
   "metadata": {
    "collapsed": true
   },
   "outputs": [],
   "source": [
    "import networkx as nx\n",
    "directed_graph = nx.DiGraph()"
   ]
  },
  {
   "cell_type": "code",
   "execution_count": 27,
   "metadata": {},
   "outputs": [
    {
     "data": {
      "text/plain": [
       "NodeView(())"
      ]
     },
     "execution_count": 27,
     "metadata": {},
     "output_type": "execute_result"
    }
   ],
   "source": [
    "directed_graph.node"
   ]
  },
  {
   "cell_type": "code",
   "execution_count": null,
   "metadata": {
    "collapsed": true
   },
   "outputs": [],
   "source": []
  }
 ],
 "metadata": {
  "hide_input": false,
  "kernelspec": {
   "display_name": "Python 3",
   "language": "python",
   "name": "python3"
  },
  "language_info": {
   "codemirror_mode": {
    "name": "ipython",
    "version": 3
   },
   "file_extension": ".py",
   "mimetype": "text/x-python",
   "name": "python",
   "nbconvert_exporter": "python",
   "pygments_lexer": "ipython3",
   "version": "3.6.3"
  }
 },
 "nbformat": 4,
 "nbformat_minor": 2
}
