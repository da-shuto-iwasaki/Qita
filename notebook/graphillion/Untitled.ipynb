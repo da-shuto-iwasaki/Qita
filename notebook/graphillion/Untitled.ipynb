{
 "cells": [
  {
   "cell_type": "markdown",
   "metadata": {},
   "source": [
    "# グラフアルゴリズム"
   ]
  },
  {
   "cell_type": "code",
   "execution_count": 29,
   "metadata": {
    "collapsed": true
   },
   "outputs": [],
   "source": [
    "import collections"
   ]
  },
  {
   "cell_type": "markdown",
   "metadata": {},
   "source": [
    "<b>サンプル集合</b>"
   ]
  },
  {
   "cell_type": "code",
   "execution_count": 150,
   "metadata": {
    "code_folding": [],
    "collapsed": true
   },
   "outputs": [],
   "source": [
    "# 辺の集合\n",
    "edges = [(\"e0\",\"e1\"),(\"e0\",\"e2\"),(\"e1\",\"e3\"),(\"e1\",\"e4\"),(\"e2\",\"e5\"),(\"e3\",\"e5\"),(\"e4\",\"e5\")]\n",
    "# 頂点の集合\n",
    "vertex_set = [\"e0\",\"e1\",\"e2\",\"e3\",\"e4\",\"e5\"]"
   ]
  },
  {
   "cell_type": "code",
   "execution_count": 31,
   "metadata": {},
   "outputs": [],
   "source": [
    "# 入次数を辞書で記録\n",
    "counter = collections.Counter([edge[0] for edge in edges])"
   ]
  },
  {
   "cell_type": "code",
   "execution_count": 51,
   "metadata": {},
   "outputs": [
    {
     "data": {
      "text/plain": [
       "['e3', 'e4']"
      ]
     },
     "execution_count": 51,
     "metadata": {},
     "output_type": "execute_result"
    }
   ],
   "source": [
    "# 始点で条件をしぼって終点を抽出する\n",
    "[edges[i][1] for i in range(len(edges)) if edges[i][0] == \"e1\"]\n",
    "# 終点で条件をしぼって始点を抽出する\n",
    "[edges[i][0] for i in range(len(edges)) if edges[i][1] == \"e1\"]"
   ]
  },
  {
   "cell_type": "code",
   "execution_count": 77,
   "metadata": {
    "collapsed": true
   },
   "outputs": [],
   "source": [
    "def update_frontier(frontier,edge,edges,counter):\n",
    "    \"\"\"\n",
    "    関数の概要：以前までのフロンティアと獲得エッジからフロンティアを更新する。フロンティアは全ての場合で等しいので、一括計算。\n",
    "    　　　　　　一般に、１つの頂点で、「入次数の数ー１」だけフロンティアは増える。\n",
    "    @param frontier ：以前までのフロンティア\n",
    "    @param edge     ：獲得エッジ\n",
    "    @param edges    ：エッジ集合\n",
    "    @param counter  ：エッジの入次数を記録している辞書\n",
    "    @return frontier：更新後のフロンティア\n",
    "    \"\"\"\n",
    "    # 入次数が２で、新しい辺の終点の頂点番号が小さかったら追加するだけ。\n",
    "    if counter[edge[0]] == 2 and edge[1] == [edges[i][1] for i in range(len(edges)) if edges[i][0] == edge[0]][0]:\n",
    "        frontier.append(edge[1])\n",
    "    # 入次数が２で、新しい辺の終点の頂点番号が大きかったら始点を削除して終点を追加する。\n",
    "    elif counter[edge[0]] == 2 and edge[1] == [edges[i][1] for i in range(len(edges)) if edges[i][0] == edge[0]][1]:\n",
    "        frontier.remove(edge[0])\n",
    "        frontier.append(edge[1])\n",
    "    # 入次数が１の場合は、始点を削除して終点を追加する。\n",
    "    elif counter[edge[0]] == 1:\n",
    "        frontier.remove(edge[0])\n",
    "        frontier.append(edge[1])\n",
    "    else:\n",
    "        print(\"予想外のedge: {}です!!\".format(edge))\n",
    "    \n",
    "    # 重複を削除する。\n",
    "    new_frontier = list(set(frontier))\n",
    "    return new_frontier"
   ]
  },
  {
   "cell_type": "code",
   "execution_count": 78,
   "metadata": {},
   "outputs": [
    {
     "name": "stdout",
     "output_type": "stream",
     "text": [
      "['e0', 'e1']\n",
      "['e2', 'e1']\n",
      "['e3', 'e2', 'e1']\n",
      "['e3', 'e2', 'e4']\n",
      "['e3', 'e5', 'e4']\n",
      "['e5', 'e4']\n",
      "['e5']\n"
     ]
    }
   ],
   "source": [
    "# 確認\n",
    "frontier = [\"e0\"]\n",
    "for i in range(len(edges)):\n",
    "    frontier = update_frontier(frontier, edges[i], edges, counter)\n",
    "    print(frontier)"
   ]
  },
  {
   "cell_type": "code",
   "execution_count": 147,
   "metadata": {
    "collapsed": true
   },
   "outputs": [],
   "source": [
    "def update_mate_arr(mate, frontier, current_edges):\n",
    "    \"\"\"\n",
    "    関数の概要：mate配列を更新する。\n",
    "    @patam mate         ：以前までのmate配列（dict）\n",
    "    @param frontier     ：更新後のフロンティア\n",
    "    @param current_edges：獲得したエッジ集合\n",
    "    @return new_mate    ：更新後のmate配列（dict）  \n",
    "    \"\"\"\n",
    "    for f in range(len(frontier)):\n",
    "        # 獲得したエッジ集合から、フロンティアの入次数を求める。\n",
    "        in_edges = [current_edges[i][0] for i in range(len(current_edges)) if current_edges[i][1] == frontier[f]]\n",
    "        N_in = len(in_edges)\n",
    "        # 入次数が０だったら、頂点の名前になる。\n",
    "        if N_in == 0:\n",
    "            mate[frontier[f]] = frontier[f]\n",
    "        # 入次数が２つだったら、０にする。\n",
    "        elif N_in == 2:\n",
    "            mate[frontier[f]] = 0\n",
    "        # 入次数が１つだったら、逆端まで探索する。\n",
    "        elif N_in == 1:\n",
    "            edge = in_edges[0]\n",
    "            b_edge = frontier[f] # １つ前のedgeを記録\n",
    "            # 戻った先で入次数と出次数を調べ続ける。\n",
    "            while True:\n",
    "                in_edges  = [current_edges[i][0] for i in range(len(current_edges)) if current_edges[i][1] == edge]\n",
    "                out_edges = [current_edges[i][1] for i in range(len(current_edges)) if current_edges[i][0] == edge]\n",
    "                N_in  = len(in_edges)  # 入次数の数\n",
    "                N_out = len(out_edges) # 出自数の数\n",
    "                # 端っこにたどり着いた場合\n",
    "                if N_in + N_out == 1:\n",
    "                    mate[frontier[f]] = edge\n",
    "                    break\n",
    "                # 端ではない場合\n",
    "                elif N_in == 2:\n",
    "                    tmp = edge\n",
    "                    edge = [in_edges[i] for i in range(len(in_edges)) if in_edges[i]!=b_edge][0]\n",
    "                    b_edge = tmp\n",
    "                elif N_out == 2:\n",
    "                    tmp = edge\n",
    "                    edge = [out_edges[i] for i in range(len(out_edges)) if out_edges[i]!=b_edge][0]\n",
    "                    b_edge = tmp\n",
    "    return mate"
   ]
  },
  {
   "cell_type": "code",
   "execution_count": 148,
   "metadata": {},
   "outputs": [
    {
     "data": {
      "text/plain": [
       "{'e0': 0, 'e1': 0, 'e2': 0, 'e3': 0, 'e4': 0, 'e5': 0}"
      ]
     },
     "execution_count": 148,
     "metadata": {},
     "output_type": "execute_result"
    }
   ],
   "source": [
    "mate_dict = dict()\n",
    "for i in range(len(vertex_set)): mate_dict[vertex_set[i]] = 0 \n",
    "mate_dict"
   ]
  },
  {
   "cell_type": "code",
   "execution_count": 149,
   "metadata": {},
   "outputs": [
    {
     "data": {
      "text/plain": [
       "{'e0': 0, 'e1': 0, 'e2': 'e0', 'e3': 'e4', 'e4': 'e3', 'e5': 0}"
      ]
     },
     "execution_count": 149,
     "metadata": {},
     "output_type": "execute_result"
    }
   ],
   "source": [
    "# 確認\n",
    "frontier = [\"e2\",\"e3\",\"e4\"]\n",
    "current_edges = [(\"e0\",\"e2\"),(\"e1\",\"e3\"),(\"e1\",\"e4\")]\n",
    "update_mate_arr(mate_dict, frontier, current_edges)"
   ]
  },
  {
   "cell_type": "code",
   "execution_count": null,
   "metadata": {
    "collapsed": true
   },
   "outputs": [],
   "source": []
  },
  {
   "cell_type": "code",
   "execution_count": 103,
   "metadata": {},
   "outputs": [
    {
     "data": {
      "text/plain": [
       "['e3', 'e4']"
      ]
     },
     "execution_count": 103,
     "metadata": {},
     "output_type": "execute_result"
    }
   ],
   "source": [
    "a = [edges[i][1] for i in range(len(edges)) if edges[i][0] == \"e1\"]\n",
    "a"
   ]
  },
  {
   "cell_type": "code",
   "execution_count": 105,
   "metadata": {},
   "outputs": [
    {
     "data": {
      "text/plain": [
       "['e4']"
      ]
     },
     "execution_count": 105,
     "metadata": {},
     "output_type": "execute_result"
    }
   ],
   "source": [
    "[a[i] for i in range(len(a)) if a[i]!=\"e3\"]"
   ]
  },
  {
   "cell_type": "code",
   "execution_count": 86,
   "metadata": {},
   "outputs": [
    {
     "data": {
      "text/plain": [
       "[('e0', 'e1'),\n",
       " ('e0', 'e2'),\n",
       " ('e1', 'e3'),\n",
       " ('e1', 'e4'),\n",
       " ('e2', 'e5'),\n",
       " ('e3', 'e5'),\n",
       " ('e4', 'e5')]"
      ]
     },
     "execution_count": 86,
     "metadata": {},
     "output_type": "execute_result"
    }
   ],
   "source": [
    "edges[i][0] for i in range(len(edges)) if edges[i][1] == "
   ]
  },
  {
   "cell_type": "code",
   "execution_count": 82,
   "metadata": {},
   "outputs": [
    {
     "data": {
      "text/plain": [
       "['e5']"
      ]
     },
     "execution_count": 82,
     "metadata": {},
     "output_type": "execute_result"
    }
   ],
   "source": [
    "frontier"
   ]
  },
  {
   "cell_type": "code",
   "execution_count": 79,
   "metadata": {},
   "outputs": [
    {
     "data": {
      "text/plain": [
       "[('e0', 'e1'),\n",
       " ('e0', 'e2'),\n",
       " ('e1', 'e3'),\n",
       " ('e1', 'e4'),\n",
       " ('e2', 'e5'),\n",
       " ('e3', 'e5'),\n",
       " ('e4', 'e5')]"
      ]
     },
     "execution_count": 79,
     "metadata": {},
     "output_type": "execute_result"
    }
   ],
   "source": [
    "edges[]"
   ]
  },
  {
   "cell_type": "code",
   "execution_count": 108,
   "metadata": {},
   "outputs": [
    {
     "data": {
      "text/plain": [
       "{'e0': 0, 'e1': 0, 'e2': 0, 'e3': 0, 'e4': 0, 'e5': 0}"
      ]
     },
     "execution_count": 108,
     "metadata": {},
     "output_type": "execute_result"
    }
   ],
   "source": [
    "mate_dict = dict()\n",
    "for i in range(len(vertex_set)): mate_dict[vertex_set[i]] = 0 \n",
    "mate_dict"
   ]
  },
  {
   "cell_type": "code",
   "execution_count": 75,
   "metadata": {},
   "outputs": [
    {
     "data": {
      "text/plain": [
       "{'e0': 0, 'e1': 0, 'e2': 0, 'e3': 0, 'e4': 0, 'e5': 0}"
      ]
     },
     "execution_count": 75,
     "metadata": {},
     "output_type": "execute_result"
    }
   ],
   "source": [
    "mate_dict"
   ]
  },
  {
   "cell_type": "code",
   "execution_count": null,
   "metadata": {
    "collapsed": true
   },
   "outputs": [],
   "source": []
  },
  {
   "cell_type": "code",
   "execution_count": 16,
   "metadata": {
    "collapsed": true
   },
   "outputs": [],
   "source": [
    "a = [0, 1, 2, 3]"
   ]
  },
  {
   "cell_type": "code",
   "execution_count": 21,
   "metadata": {},
   "outputs": [],
   "source": [
    "a.append(0)"
   ]
  },
  {
   "cell_type": "code",
   "execution_count": 22,
   "metadata": {},
   "outputs": [
    {
     "data": {
      "text/plain": [
       "[1, 2, 3, 0]"
      ]
     },
     "execution_count": 22,
     "metadata": {},
     "output_type": "execute_result"
    }
   ],
   "source": [
    "a"
   ]
  },
  {
   "cell_type": "code",
   "execution_count": 26,
   "metadata": {},
   "outputs": [],
   "source": [
    "import networkx as nx\n",
    "directed_graph = nx.DiGraph()"
   ]
  },
  {
   "cell_type": "code",
   "execution_count": 27,
   "metadata": {},
   "outputs": [
    {
     "data": {
      "text/plain": [
       "NodeView(())"
      ]
     },
     "execution_count": 27,
     "metadata": {},
     "output_type": "execute_result"
    }
   ],
   "source": [
    "directed_graph.node"
   ]
  },
  {
   "cell_type": "code",
   "execution_count": null,
   "metadata": {
    "collapsed": true
   },
   "outputs": [],
   "source": []
  }
 ],
 "metadata": {
  "hide_input": false,
  "kernelspec": {
   "display_name": "Python 3",
   "language": "python",
   "name": "python3"
  },
  "language_info": {
   "codemirror_mode": {
    "name": "ipython",
    "version": 3
   },
   "file_extension": ".py",
   "mimetype": "text/x-python",
   "name": "python",
   "nbconvert_exporter": "python",
   "pygments_lexer": "ipython3",
   "version": "3.6.3"
  }
 },
 "nbformat": 4,
 "nbformat_minor": 2
}
